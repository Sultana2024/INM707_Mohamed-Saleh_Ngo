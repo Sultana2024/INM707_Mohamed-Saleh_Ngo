{
  "cells": [
    {
      "cell_type": "markdown",
      "id": "3691e211",
      "metadata": {
        "id": "3691e211"
      },
      "source": [
        "# Advanced  "
      ]
    },
    {
      "cell_type": "markdown",
      "source": [
        "* MountainCar environment\n",
        "* Continous state space: position from -1.2 to 0.6 with starting between -0.6 to -0.4; velocity -0.07 to 0.07\n",
        "* Goal reach pos=0.5\n",
        "* Success: -110 score in 100 episodes or fail >200steps\n",
        "* 3 actions: push left, no push, push right\n",
        "\n",
        "*From Github OpenAI: https://github.com/openai/gym/wiki/MountainCar-v0*"
      ],
      "metadata": {
        "id": "NeOiN9KpiHuk"
      },
      "id": "NeOiN9KpiHuk"
    },
    {
      "cell_type": "markdown",
      "source": [
        "\n",
        "### **Imports**"
      ],
      "metadata": {
        "id": "uMdpwl0HoXEW"
      },
      "id": "uMdpwl0HoXEW"
    },
    {
      "cell_type": "code",
      "source": [
        "# Uncomment and download prior to running the code\n",
        "#!pip install gym==0.26.2"
      ],
      "metadata": {
        "id": "yaSZmpBhzT1R",
        "collapsed": true
      },
      "id": "yaSZmpBhzT1R",
      "execution_count": 1,
      "outputs": []
    },
    {
      "cell_type": "code",
      "source": [
        "#!pip install tensorflow"
      ],
      "metadata": {
        "collapsed": true,
        "id": "4VBQROGFNEMu"
      },
      "id": "4VBQROGFNEMu",
      "execution_count": 2,
      "outputs": []
    },
    {
      "cell_type": "code",
      "execution_count": 3,
      "id": "bfdb0109",
      "metadata": {
        "id": "bfdb0109"
      },
      "outputs": [],
      "source": [
        "import gym as gym\n",
        "import numpy as np\n",
        "import pandas as pd\n",
        "import tensorflow as tf\n",
        "import matplotlib.pyplot as plt\n",
        "import keras as keras\n",
        "import random\n",
        "import torch\n",
        "import typing\n",
        "import collections\n",
        "from torch import nn, optim\n",
        "import torch.nn.functional as F\n",
        "from keras import Sequential\n",
        "from keras.layers import Dense\n",
        "from keras.optimizers import Adam\n",
        "from keras.activations import relu, linear\n",
        "from collections import deque\n"
      ]
    },
    {
      "cell_type": "code",
      "source": [
        "# Check it's 0.26.2\n",
        "print(gym.__version__)"
      ],
      "metadata": {
        "colab": {
          "base_uri": "https://localhost:8080/"
        },
        "id": "ZoLG2DD3u4CU",
        "outputId": "3499858b-8bc5-4760-c699-7405feb528ec"
      },
      "id": "ZoLG2DD3u4CU",
      "execution_count": 4,
      "outputs": [
        {
          "output_type": "stream",
          "name": "stdout",
          "text": [
            "0.26.2\n"
          ]
        }
      ]
    },
    {
      "cell_type": "code",
      "source": [
        "# For compatibility with google colab\n",
        "if not hasattr(np, 'bool8'):\n",
        "    np.bool8 = np.bool_"
      ],
      "metadata": {
        "id": "mnRrdO05B34Q",
        "colab": {
          "base_uri": "https://localhost:8080/"
        },
        "outputId": "a1a17149-4842-428f-f3ee-40cc1d502089"
      },
      "id": "mnRrdO05B34Q",
      "execution_count": 5,
      "outputs": [
        {
          "output_type": "stream",
          "name": "stderr",
          "text": [
            "<ipython-input-5-8307410ffab6>:2: DeprecationWarning: `np.bool8` is a deprecated alias for `np.bool_`.  (Deprecated NumPy 1.24)\n",
            "  if not hasattr(np, 'bool8'):\n"
          ]
        }
      ]
    },
    {
      "cell_type": "code",
      "execution_count": 6,
      "id": "e52abaaa",
      "metadata": {
        "id": "e52abaaa",
        "colab": {
          "base_uri": "https://localhost:8080/"
        },
        "outputId": "1eee7e13-8343-4271-c26a-ab394044d024"
      },
      "outputs": [
        {
          "output_type": "execute_result",
          "data": {
            "text/plain": [
              "<torch._C.Generator at 0x7e18beff74f0>"
            ]
          },
          "metadata": {},
          "execution_count": 6
        }
      ],
      "source": [
        "# For reproducibility\n",
        "random.seed(42)\n",
        "np.random.seed(42)\n",
        "torch.manual_seed(42)"
      ]
    },
    {
      "cell_type": "markdown",
      "source": [
        "## **Experiment 1**\n",
        "* 3 hidden layers: size 12-12-12\n",
        "* batch_size: 8\n",
        "* epsilon_decay: 0.995\n",
        "* alpha: 0.1\n",
        "* gamma: 0.99\n",
        "* Episodes: 10,000\n",
        "* Buffer size: 100,000\n",
        "* target update frequency: 20\n",
        "* Optimizer: Adam - lr =0.03"
      ],
      "metadata": {
        "id": "EcwlNcmYfykd"
      },
      "id": "EcwlNcmYfykd"
    },
    {
      "cell_type": "markdown",
      "id": "d74e5847",
      "metadata": {
        "id": "d74e5847"
      },
      "source": [
        "### Experience replay buffer"
      ]
    },
    {
      "cell_type": "code",
      "execution_count": 7,
      "id": "e5979034",
      "metadata": {
        "id": "e5979034"
      },
      "outputs": [],
      "source": [
        "#Experience replay buffer\n",
        "\n",
        "_field_names = [\n",
        "    \"state\",\n",
        "    \"action\",\n",
        "    \"reward\",\n",
        "    \"next_state\",\n",
        "    \"done\"\n",
        "]\n",
        "Experience = collections.namedtuple(\"Experience\", field_names=_field_names)\n",
        "\n",
        "class ExperienceReplayBuffer:\n",
        "\n",
        "    def __init__(self,\n",
        "                 batch_size: int,\n",
        "                 buffer_size: int = None,\n",
        "                 random_state: np.random.RandomState = None) -> None:\n",
        "\n",
        "        self._batch_size = batch_size\n",
        "        self._buffer_size = buffer_size\n",
        "        self._buffer = collections.deque(maxlen=buffer_size)\n",
        "        self._random_state = np.random.RandomState() if random_state is None else random_state\n",
        "\n",
        "    def __len__(self) -> int:\n",
        "        return len(self._buffer)\n",
        "\n",
        "    @property\n",
        "    def batch_size(self) -> int:\n",
        "        return self._batch_size\n",
        "\n",
        "    @property\n",
        "    def buffer_size(self) -> int:\n",
        "        return self._buffer_size\n",
        "\n",
        "    def append(self, experience: Experience) -> None:\n",
        "        self._buffer.append(experience)\n",
        "\n",
        "    def sample(self) -> typing.List[Experience]:\n",
        "        idxs = self._random_state.randint(len(self._buffer), size=self._batch_size)\n",
        "        experiences = [self._buffer[idx] for idx in idxs]\n",
        "        return experiences\n"
      ]
    },
    {
      "cell_type": "markdown",
      "id": "fc82a187",
      "metadata": {
        "id": "fc82a187"
      },
      "source": [
        "### Q-learning update"
      ]
    },
    {
      "cell_type": "code",
      "execution_count": 8,
      "id": "c43defdf",
      "metadata": {
        "id": "c43defdf"
      },
      "outputs": [],
      "source": [
        "# Class qnetwork\n",
        "def select_greedy_actions(states: torch.Tensor, q_network: nn.Module) -> torch.Tensor:\n",
        "    \"\"\"Select the greedy action for the current state given some Q-network.\"\"\"\n",
        "    _, actions = q_network(states).max(dim=1, keepdim=True)\n",
        "    return actions\n",
        "\n",
        "\n",
        "def evaluate_selected_actions(states: torch.Tensor,\n",
        "                              actions: torch.Tensor,\n",
        "                              rewards: torch.Tensor,\n",
        "                              dones: torch.Tensor,\n",
        "                              gamma: float,\n",
        "                              q_network: nn.Module) -> torch.Tensor:\n",
        "    next_q_values = q_network(states).gather(dim=1, index=actions)\n",
        "    q_values = rewards + (gamma * next_q_values * (1 - dones))\n",
        "    return q_values\n"
      ]
    },
    {
      "cell_type": "code",
      "execution_count": 9,
      "id": "8c6d7049",
      "metadata": {
        "id": "8c6d7049"
      },
      "outputs": [],
      "source": [
        "def q_learning_update(states: torch.Tensor,\n",
        "                      rewards: torch.Tensor,\n",
        "                      dones: torch.Tensor,\n",
        "                      gamma: float,\n",
        "                      q_network: nn.Module) -> torch.Tensor:\n",
        "    actions = select_greedy_actions(states, q_network)\n",
        "    q_values = evaluate_selected_actions(states, actions, rewards, dones, gamma, q_network)\n",
        "    return q_values"
      ]
    },
    {
      "cell_type": "code",
      "execution_count": 10,
      "id": "066df5e1",
      "metadata": {
        "id": "066df5e1"
      },
      "outputs": [],
      "source": [
        "def double_q_learning_update(states: torch.Tensor,\n",
        "                             rewards: torch.Tensor,\n",
        "                             dones: torch.Tensor,\n",
        "                             gamma: float,\n",
        "                             q_network_1: nn.Module,\n",
        "                             q_network_2: nn.Module) -> torch.Tensor:\n",
        "    actions = select_greedy_actions(states, q_network_1)\n",
        "    q_values = evaluate_selected_actions(states, actions, rewards, dones, gamma, q_network_2)\n",
        "    return q_values"
      ]
    },
    {
      "cell_type": "markdown",
      "id": "95da04e5",
      "metadata": {
        "id": "95da04e5"
      },
      "source": [
        "### Agent class"
      ]
    },
    {
      "cell_type": "code",
      "execution_count": 11,
      "id": "fe7c78c3",
      "metadata": {
        "id": "fe7c78c3"
      },
      "outputs": [],
      "source": [
        "class Agent:\n",
        "\n",
        "    def choose_action(self, state: np.array) -> int:\n",
        "        raise NotImplementedError\n",
        "\n",
        "    def learn(self, experiences: typing.List[Experience]) -> None:\n",
        "        raise NotImplementedError\n",
        "\n",
        "    def save(self, filepath) -> None:\n",
        "        raise NotImplementedError\n",
        "\n",
        "    def step(self,\n",
        "             state: np.array,\n",
        "             action: int,\n",
        "             reward: float,\n",
        "             next_state: np.array,\n",
        "             done: bool) -> None:\n",
        "        raise NotImplementedError"
      ]
    },
    {
      "cell_type": "code",
      "execution_count": 12,
      "id": "00f83c1a",
      "metadata": {
        "id": "00f83c1a"
      },
      "outputs": [],
      "source": [
        "class DeepQAgent(Agent):\n",
        "\n",
        "    def __init__(self,\n",
        "                 state_size: int,\n",
        "                 action_size: int,\n",
        "                 optimizer_fn: typing.Callable[[typing.Iterable[nn.Parameter]], optim.Optimizer],\n",
        "                 batch_size: int,\n",
        "                 buffer_size: int,\n",
        "                 epsilon_decay_schedule: typing.Callable[[int], float],\n",
        "                 alpha: float,\n",
        "                 gamma: float,\n",
        "                 update_frequency: int,\n",
        "                 double_dqn: bool = False,\n",
        "                 seed: int = None) -> None:\n",
        "\n",
        "        self._state_size = state_size\n",
        "        self._action_size = action_size\n",
        "        self._device = torch.device((\"mps\") if torch.backends.mps.is_available() else torch.device(\"cpu\"))\n",
        "\n",
        "\n",
        "        self._random_state = np.random.RandomState() if seed is None else np.random.RandomState(seed)\n",
        "        if seed is not None:\n",
        "            torch.manual_seed(seed)\n",
        "        if torch.cuda.is_available():\n",
        "            torch.backends.cudnn.deterministic = True\n",
        "            torch.backends.cudnn.benchmark = False\n",
        "\n",
        "        _replay_buffer_kwargs = {\n",
        "            \"batch_size\": batch_size,\n",
        "            \"buffer_size\": buffer_size,\n",
        "            \"random_state\": self._random_state\n",
        "        }\n",
        "        self._memory = ExperienceReplayBuffer(**_replay_buffer_kwargs)\n",
        "        self._epsilon_decay_schedule = epsilon_decay_schedule\n",
        "        self._alpha = alpha\n",
        "        self._gamma = gamma\n",
        "        self._double_dqn = double_dqn\n",
        "\n",
        "        # initialize Q-Networks\n",
        "        self._update_frequency = update_frequency\n",
        "        self._online_q_network = self._initialize_q_network()\n",
        "        self._target_q_network = self._initialize_q_network()\n",
        "        self._synchronize_q_networks(self._target_q_network, self._online_q_network)\n",
        "        self._online_q_network.to(self._device)\n",
        "        self._target_q_network.to(self._device)\n",
        "\n",
        "        # initialize the optimizer\n",
        "        self._optimizer = optimizer_fn(self._online_q_network.parameters())\n",
        "\n",
        "        # initialize some counters\n",
        "        self._number_episodes = 0\n",
        "        self._number_timesteps = 0\n",
        "\n",
        "    def _initialize_q_network(self) -> nn.Module:\n",
        "        q_network = nn.Sequential(\n",
        "            nn.Linear(in_features=self._state_size, out_features=12),\n",
        "            nn.ReLU(),\n",
        "            nn.Linear(in_features=12, out_features=12),\n",
        "            nn.ReLU(),\n",
        "            nn.Linear(in_features=12, out_features=12),\n",
        "            nn.ReLU(),\n",
        "            nn.Linear(in_features=12, out_features=self._action_size)\n",
        "        )\n",
        "        return q_network\n",
        "\n",
        "    @staticmethod\n",
        "    def _soft_update_q_network_parameters(q_network_1: nn.Module,\n",
        "                                          q_network_2: nn.Module,\n",
        "                                          alpha: float) -> None:\n",
        "        for p1, p2 in zip(q_network_1.parameters(), q_network_2.parameters()):\n",
        "            p1.data.copy_(alpha * p2.data + (1 - alpha) * p1.data)\n",
        "\n",
        "    @staticmethod\n",
        "    def _synchronize_q_networks(q_network_1: nn.Module, q_network_2: nn.Module) -> None:\n",
        "        _ = q_network_1.load_state_dict(q_network_2.state_dict())\n",
        "\n",
        "    def _uniform_random_policy(self, state: torch.Tensor) -> int:\n",
        "        return self._random_state.randint(self._action_size)\n",
        "\n",
        "    def _greedy_policy(self, state: torch.Tensor) -> int:\n",
        "        action = (self._online_q_network(state).argmax().cpu().item())\n",
        "        return action\n",
        "\n",
        "    def _epsilon_greedy_policy(self, state: torch.Tensor, epsilon: float) -> int:\n",
        "        if self._random_state.random() < epsilon:\n",
        "            action = self._uniform_random_policy(state)\n",
        "        else:\n",
        "            action = self._greedy_policy(state)\n",
        "        return action\n",
        "\n",
        "# Modified function\n",
        "    def choose_action(self, state: np.array) -> int:\n",
        "      if isinstance(state, tuple):\n",
        "          state = state[0]\n",
        "      if isinstance(state, np.float32):\n",
        "          state = np.array([state])\n",
        "      if not isinstance(state, np.ndarray):\n",
        "          state = np.array(state, dtype=np.float32)\n",
        "      if state.ndim == 1:\n",
        "          state = np.expand_dims(state, axis=0)\n",
        "\n",
        "      state_tensor = torch.from_numpy(state).float().to(self._device).unsqueeze(0)\n",
        "\n",
        "      if not self.has_sufficient_experience():\n",
        "          action = self._uniform_random_policy(state_tensor)\n",
        "      else:\n",
        "          epsilon = self._epsilon_decay_schedule(self._number_episodes)\n",
        "          action = self._epsilon_greedy_policy(state_tensor, epsilon)\n",
        "\n",
        "      return action\n",
        "\n",
        "    def learn(self, experiences: typing.List[Experience]) -> None:\n",
        "        states, actions, rewards, next_states, dones = (torch.Tensor(vs).to(self._device) for vs in zip(*experiences))\n",
        "        actions = (actions.long().unsqueeze(dim=1))\n",
        "        rewards = rewards.unsqueeze(dim=1)\n",
        "        dones = dones.unsqueeze(dim=1)\n",
        "\n",
        "        if self._double_dqn:\n",
        "            target_q_values = double_q_learning_update(next_states,\n",
        "                                                       rewards,\n",
        "                                                       dones,\n",
        "                                                       self._gamma,\n",
        "                                                       self._online_q_network,\n",
        "                                                       self._target_q_network)\n",
        "        else:\n",
        "            target_q_values = q_learning_update(next_states,\n",
        "                                                rewards,\n",
        "                                                dones,\n",
        "                                                self._gamma,\n",
        "                                                self._target_q_network)\n",
        "\n",
        "        online_q_values = (self._online_q_network(states)\n",
        "                               .gather(dim=1, index=actions))\n",
        "\n",
        "        # Compute loss function\n",
        "        loss = F.mse_loss(online_q_values, target_q_values)\n",
        "\n",
        "        # update network parameters\n",
        "        self._optimizer.zero_grad()\n",
        "        loss.backward()\n",
        "        self._optimizer.step()\n",
        "\n",
        "        self._soft_update_q_network_parameters(self._target_q_network,\n",
        "                                               self._online_q_network,\n",
        "                                               self._alpha)\n",
        "\n",
        "    # Check buffer has enough experiences to start sampling\n",
        "    def has_sufficient_experience(self) -> bool:\n",
        "        return len(self._memory) >= self._memory.batch_size\n",
        "\n",
        "    def save(self, filepath: str) -> None:\n",
        "        checkpoint = {\n",
        "            \"q-network-state\": self._online_q_network.state_dict(),\n",
        "            \"optimizer-state\": self._optimizer.state_dict(),\n",
        "            \"agent-hyperparameters\": {\n",
        "                \"alpha\": self._alpha,\n",
        "                \"batch_size\": self._memory.batch_size,\n",
        "                \"buffer_size\": self._memory.buffer_size,\n",
        "                \"gamma\": self._gamma,\n",
        "                \"update_frequency\": self._update_frequency\n",
        "            }\n",
        "        }\n",
        "        torch.save(checkpoint, filepath)\n",
        "\n",
        "    def step(self,\n",
        "             state: np.array,\n",
        "             action: int,\n",
        "             reward: float,\n",
        "             next_state: np.array,\n",
        "             done: bool) -> None:\n",
        "        experience = Experience(state, action, reward, next_state, done)\n",
        "        self._memory.append(experience)\n",
        "\n",
        "        if done:\n",
        "            self._number_episodes += 1\n",
        "        else:\n",
        "            self._number_timesteps += 1\n",
        "\n",
        "            # Set frequency i.e. number of steps where agent learns from experiences\n",
        "            if self._number_timesteps % self._update_frequency == 0 and self.has_sufficient_experience():\n",
        "                experiences = self._memory.sample()\n",
        "                self.learn(experiences)\n"
      ]
    },
    {
      "cell_type": "markdown",
      "id": "a1b9e286",
      "metadata": {
        "id": "a1b9e286"
      },
      "source": [
        "### Train"
      ]
    },
    {
      "cell_type": "code",
      "execution_count": 13,
      "id": "61b798f7",
      "metadata": {
        "id": "61b798f7"
      },
      "outputs": [],
      "source": [
        "# Max steps training\n",
        "def _train_for_at_most(agent: Agent, env: gym.Env, max_timesteps: int) -> int:\n",
        "    state, _= env.reset()\n",
        "    score = 0\n",
        "    # Record number of steps taken by the agent\n",
        "    steps_taken=0\n",
        "    for t in range(max_timesteps):\n",
        "        action = agent.choose_action(state)\n",
        "        next_state, reward, terminated, truncated, _ = env.step(action)\n",
        "        done = terminated or truncated\n",
        "        agent.step(state, action, reward, next_state, done)\n",
        "        state = next_state\n",
        "        score += reward\n",
        "        steps_taken+=1\n",
        "        if done:\n",
        "            break\n",
        "    return score, steps_taken\n",
        "\n",
        "# Train until current episode\n",
        "def _train_until_done(agent: Agent, env: gym.Env) -> float:\n",
        "    state, _= env.reset()\n",
        "    score = 0\n",
        "    steps_taken=0\n",
        "    done = False\n",
        "    while not done:\n",
        "        action = agent.choose_action(state)\n",
        "        next_state, reward, terminated, truncated, _ = env.step(action)\n",
        "        done = terminated or truncated\n",
        "        agent.step(state, action, reward, next_state, done)\n",
        "        state = next_state\n",
        "        score += reward\n",
        "        steps_taken+=1\n",
        "    return score, steps_taken"
      ]
    },
    {
      "cell_type": "code",
      "execution_count": 14,
      "id": "4bfc90bf",
      "metadata": {
        "id": "4bfc90bf"
      },
      "outputs": [],
      "source": [
        "def train(agent: Agent,\n",
        "          env: gym.Env,\n",
        "          checkpoint_filepath: str,\n",
        "          target_score: float,\n",
        "          number_episodes: int,\n",
        "          maximum_timesteps=None) -> typing.List[float]:\n",
        "    scores = []\n",
        "    steps_taken_list=[]\n",
        "    # 15,000 size of scores deque\n",
        "    most_recent_scores = collections.deque(maxlen=15000)\n",
        "    for i in range(number_episodes):\n",
        "        if maximum_timesteps is None:\n",
        "            score, steps_taken = _train_until_done(agent, env)\n",
        "        else:\n",
        "            score, steps_taken = _train_for_at_most(agent, env, maximum_timesteps)\n",
        "        scores.append(score)\n",
        "        steps_taken_list.append(steps_taken)\n",
        "        most_recent_scores.append(score)\n",
        "\n",
        "        average_score = sum(most_recent_scores) / len(most_recent_scores)\n",
        "        if average_score >= target_score:\n",
        "            print(f\"\\nEnvironment solved in {i:d} episodes!\\tAverage Score: {average_score:.2f}\")\n",
        "            agent.save(checkpoint_filepath)\n",
        "            break\n",
        "        # Show reward for every 1,000th episode\n",
        "        if (i + 1) % 1000 == 0:\n",
        "            print(f\"\\rEpisode {i + 1}\\tAverage Score: {average_score:.2f}\")\n",
        "\n",
        "    return scores, steps_taken_list"
      ]
    },
    {
      "cell_type": "markdown",
      "id": "b50940ff",
      "metadata": {
        "id": "b50940ff"
      },
      "source": [
        "### Epsilon"
      ]
    },
    {
      "cell_type": "code",
      "execution_count": 15,
      "id": "63559bdf",
      "metadata": {
        "id": "63559bdf"
      },
      "outputs": [],
      "source": [
        "def power_decay_schedule(episode_number: int,\n",
        "                         decay_factor: float,\n",
        "                         minimum_epsilon: float,\n",
        "                         max_eps: float) -> float:\n",
        "    return max(max_eps*decay_factor**episode_number, minimum_epsilon)\n",
        "# Start with epsilon =1.0 and decay by 0.995\n",
        "_epsilon_decay_schedule_kwargs = {\n",
        "    \"decay_factor\": 0.995,\n",
        "    \"minimum_epsilon\": 0.1,\n",
        "    \"max_eps\": 1.0\n",
        "}\n",
        "epsilon_decay_schedule = lambda n: power_decay_schedule(n, **_epsilon_decay_schedule_kwargs)"
      ]
    },
    {
      "cell_type": "markdown",
      "id": "deffc973",
      "metadata": {
        "id": "deffc973"
      },
      "source": [
        "### Optimizer"
      ]
    },
    {
      "cell_type": "code",
      "execution_count": 16,
      "id": "3433d0b0",
      "metadata": {
        "id": "3433d0b0"
      },
      "outputs": [],
      "source": [
        "_optimizer_kwargs = {\n",
        "    \"lr\": 1e-3,\n",
        "    \"betas\": (0.9, 0.999),\n",
        "    \"eps\": 1e-08,\n",
        "    \"weight_decay\": 0,\n",
        "    \"amsgrad\": False,\n",
        "}\n",
        "optimizer_fn = lambda parameters: optim.Adam(parameters, **_optimizer_kwargs)"
      ]
    },
    {
      "cell_type": "markdown",
      "id": "aaa7049e",
      "metadata": {
        "id": "aaa7049e"
      },
      "source": [
        "### Set-up environment and train DQN"
      ]
    },
    {
      "cell_type": "code",
      "execution_count": 17,
      "id": "7a7e23de",
      "metadata": {
        "id": "7a7e23de"
      },
      "outputs": [],
      "source": [
        "# Env MountainCar-v0\n",
        "env = gym.make(\"MountainCar-v0\")"
      ]
    },
    {
      "cell_type": "code",
      "execution_count": 18,
      "id": "ee104b8c",
      "metadata": {
        "id": "ee104b8c"
      },
      "outputs": [],
      "source": [
        "#Train\n",
        "_agent_kwargs = {\n",
        "    \"state_size\": env.observation_space.shape[0],\n",
        "    # 3 actions:\n",
        "    \"action_size\": env.action_space.n,\n",
        "    \"optimizer_fn\": optimizer_fn,\n",
        "    \"epsilon_decay_schedule\": epsilon_decay_schedule,\n",
        "    \"batch_size\": 128,\n",
        "    \"buffer_size\": 100000,\n",
        "    \"alpha\": 0.1,\n",
        "    \"gamma\": 0.99,\n",
        "    \"update_frequency\": 20,\n",
        "    \"double_dqn\": True,  # True uses Double DQN\n",
        "    \"seed\": None,\n",
        "}\n",
        "double_dqn_agent = DeepQAgent(**_agent_kwargs)\n"
      ]
    },
    {
      "cell_type": "code",
      "source": [
        "steps_taken_list =[]\n",
        "double_dqn_scores, steps_taken_list = train(double_dqn_agent,\n",
        "                          env,\n",
        "                          \"double-dqn-checkpoint.pth\",\n",
        "                          number_episodes=10000,\n",
        "                          target_score=-100,\n",
        "                          maximum_timesteps=200\n",
        "                          )"
      ],
      "metadata": {
        "colab": {
          "base_uri": "https://localhost:8080/"
        },
        "id": "blDKb0XYomuw",
        "outputId": "3fe50e66-3ae0-446b-8450-5f8ce65b83c2"
      },
      "id": "blDKb0XYomuw",
      "execution_count": 19,
      "outputs": [
        {
          "output_type": "stream",
          "name": "stderr",
          "text": [
            "/usr/local/lib/python3.11/dist-packages/gym/utils/passive_env_checker.py:233: DeprecationWarning: `np.bool8` is a deprecated alias for `np.bool_`.  (Deprecated NumPy 1.24)\n",
            "  if not isinstance(terminated, (bool, np.bool8)):\n",
            "<ipython-input-12-2d8da9fa78fc>:113: UserWarning: Creating a tensor from a list of numpy.ndarrays is extremely slow. Please consider converting the list to a single numpy.ndarray with numpy.array() before converting to a tensor. (Triggered internally at ../torch/csrc/utils/tensor_new.cpp:278.)\n",
            "  states, actions, rewards, next_states, dones = (torch.Tensor(vs).to(self._device) for vs in zip(*experiences))\n"
          ]
        },
        {
          "output_type": "stream",
          "name": "stdout",
          "text": [
            "Episode 1000\tAverage Score: -200.00\n",
            "Episode 2000\tAverage Score: -200.00\n",
            "Episode 3000\tAverage Score: -199.99\n",
            "Episode 4000\tAverage Score: -199.91\n",
            "Episode 5000\tAverage Score: -199.92\n",
            "Episode 6000\tAverage Score: -199.93\n",
            "Episode 7000\tAverage Score: -199.90\n",
            "Episode 8000\tAverage Score: -199.91\n",
            "Episode 9000\tAverage Score: -199.90\n",
            "Episode 10000\tAverage Score: -199.91\n"
          ]
        }
      ]
    },
    {
      "cell_type": "code",
      "execution_count": 20,
      "id": "c298be12",
      "metadata": {
        "id": "c298be12",
        "colab": {
          "base_uri": "https://localhost:8080/"
        },
        "outputId": "e3607947-ff43-4b88-e6a9-b0774f88c763"
      },
      "outputs": [
        {
          "output_type": "execute_result",
          "data": {
            "text/plain": [
              "2.63762091559959"
            ]
          },
          "metadata": {},
          "execution_count": 20
        }
      ],
      "source": [
        "double_dqn_scores_series = pd.Series(double_dqn_scores, name=\"scores\")\n",
        "double_dqn_scores_series.std()"
      ]
    },
    {
      "cell_type": "code",
      "source": [
        "double_dqn_scores_series.max()"
      ],
      "metadata": {
        "colab": {
          "base_uri": "https://localhost:8080/"
        },
        "id": "l80ADNaiw3FF",
        "outputId": "9e3e51f8-564d-4bab-df93-796f36a12081"
      },
      "id": "l80ADNaiw3FF",
      "execution_count": 21,
      "outputs": [
        {
          "output_type": "execute_result",
          "data": {
            "text/plain": [
              "-87.0"
            ]
          },
          "metadata": {},
          "execution_count": 21
        }
      ]
    },
    {
      "cell_type": "code",
      "execution_count": 23,
      "id": "27b19a9b",
      "metadata": {
        "id": "27b19a9b",
        "colab": {
          "base_uri": "https://localhost:8080/",
          "height": 563
        },
        "outputId": "09fa1f7a-5749-423e-fc26-55d13a9d7ad3"
      },
      "outputs": [
        {
          "output_type": "display_data",
          "data": {
            "text/plain": [
              "<Figure size 1000x600 with 1 Axes>"
            ],
            "image/png": "[encoded data removed]"
          },
          "metadata": {}
        }
      ],
      "source": [
        "##### Plot scores (rewards) per episode (every 100 episodes) #####\n",
        "fig, axes = plt.subplots(1, 1, figsize=(10, 6), sharex=True, sharey=True)\n",
        "_ = double_dqn_scores_series.plot(ax=axes, label=\"Double DQN Scores\")\n",
        "_ = (double_dqn_scores_series.rolling(window=100)\n",
        "                      .mean()\n",
        "                      .rename(\"Rolling Average\")\n",
        "                      .plot(ax=axes))\n",
        "_ = axes.legend()\n",
        "_ = axes.set_ylabel(\"Score\")\n",
        "_ = axes.set_xlabel(\"Episode Number\")\n",
        "_ = axes.set_title(\"Double DQN Scores with α=0.1, γ=0.99, ε-decay rate=0.995\")"
      ]
    },
    {
      "cell_type": "code",
      "source": [
        "steps_taken_series = pd.Series(steps_taken_list, name=\"steps_taken\")\n",
        "steps_taken_series.min()"
      ],
      "metadata": {
        "colab": {
          "base_uri": "https://localhost:8080/"
        },
        "id": "2ux6FdduxsWu",
        "outputId": "feee431e-6c6f-4737-eb1e-a7bca1fd6b58"
      },
      "id": "2ux6FdduxsWu",
      "execution_count": 24,
      "outputs": [
        {
          "output_type": "execute_result",
          "data": {
            "text/plain": [
              "87"
            ]
          },
          "metadata": {},
          "execution_count": 24
        }
      ]
    },
    {
      "cell_type": "code",
      "source": [
        "total = 0\n",
        "for i in range(len(double_dqn_scores_series)):\n",
        "    if double_dqn_scores_series[i] > -200:\n",
        "      total +=1\n",
        "print('Successful episodes:', total)"
      ],
      "metadata": {
        "colab": {
          "base_uri": "https://localhost:8080/"
        },
        "id": "mCOyKrj8uCmN",
        "outputId": "1cf6db88-f35b-40bd-d07f-d6a8c145e396"
      },
      "id": "mCOyKrj8uCmN",
      "execution_count": 25,
      "outputs": [
        {
          "output_type": "stream",
          "name": "stdout",
          "text": [
            "Successful episodes: 14\n"
          ]
        }
      ]
    },
    {
      "cell_type": "code",
      "source": [
        "i_pos = double_dqn_scores_series.values.argmax()\n",
        "print('Episode number of best score:', i_pos)"
      ],
      "metadata": {
        "colab": {
          "base_uri": "https://localhost:8080/"
        },
        "id": "VXzlnwM2lrII",
        "outputId": "b8bcc75d-f20a-45f5-9813-12eac038a2bf"
      },
      "id": "VXzlnwM2lrII",
      "execution_count": 26,
      "outputs": [
        {
          "output_type": "stream",
          "name": "stdout",
          "text": [
            "Episode number of best score: 3890\n"
          ]
        }
      ]
    },
    {
      "cell_type": "code",
      "source": [
        "double_dqn_scores_series.to_csv('double_dqn_scores.csv', index=False)"
      ],
      "metadata": {
        "id": "DJXftCaDlvSu"
      },
      "id": "DJXftCaDlvSu",
      "execution_count": 27,
      "outputs": []
    },
    {
      "cell_type": "code",
      "source": [
        "from google.colab import files\n",
        "files.download('double_dqn_scores.csv')"
      ],
      "metadata": {
        "colab": {
          "base_uri": "https://localhost:8080/",
          "height": 16
        },
        "id": "ll4CHBTJsr1O",
        "outputId": "68d175a9-f498-44c6-9677-5996f45106d5"
      },
      "id": "ll4CHBTJsr1O",
      "execution_count": 48,
      "outputs": [
        {
          "output_type": "display_data",
          "data": {
            "text/plain": [
              "<IPython.core.display.Javascript object>"
            ],
            "application/javascript": [
              "\n",
              "    async function download(id, filename, size) {\n",
              "      if (!google.colab.kernel.accessAllowed) {\n",
              "        return;\n",
              "      }\n",
              "      const div = document.createElement('div');\n",
              "      const label = document.createElement('label');\n",
              "      label.textContent = `Downloading \"${filename}\": `;\n",
              "      div.appendChild(label);\n",
              "      const progress = document.createElement('progress');\n",
              "      progress.max = size;\n",
              "      div.appendChild(progress);\n",
              "      document.body.appendChild(div);\n",
              "\n",
              "      const buffers = [];\n",
              "      let downloaded = 0;\n",
              "\n",
              "      const channel = await google.colab.kernel.comms.open(id);\n",
              "      // Send a message to notify the kernel that we're ready.\n",
              "      channel.send({})\n",
              "\n",
              "      for await (const message of channel.messages) {\n",
              "        // Send a message to notify the kernel that we're ready.\n",
              "        channel.send({})\n",
              "        if (message.buffers) {\n",
              "          for (const buffer of message.buffers) {\n",
              "            buffers.push(buffer);\n",
              "            downloaded += buffer.byteLength;\n",
              "            progress.value = downloaded;\n",
              "          }\n",
              "        }\n",
              "      }\n",
              "      const blob = new Blob(buffers, {type: 'application/binary'});\n",
              "      const a = document.createElement('a');\n",
              "      a.href = window.URL.createObjectURL(blob);\n",
              "      a.download = filename;\n",
              "      div.appendChild(a);\n",
              "      a.click();\n",
              "      div.remove();\n",
              "    }\n",
              "  "
            ]
          },
          "metadata": {}
        },
        {
          "output_type": "display_data",
          "data": {
            "text/plain": [
              "<IPython.core.display.Javascript object>"
            ],
            "application/javascript": [
              "download(\"download_715f27d7-4544-4a3a-9cd9-5b936bb0446b\", \"double_dqn_scores.csv\", 70004)"
            ]
          },
          "metadata": {}
        }
      ]
    },
    {
      "cell_type": "markdown",
      "source": [
        "## **Experiment 2: Parameter variation**\n",
        "\n",
        "* 3 hidden layers: size 24-48-24\n",
        "* batch_size: 64\n",
        "* epsilon_decay: 0.999\n",
        "* alpha: 0.05\n",
        "* gamma: 0.99\n",
        "* Episodes: 10,000\n",
        "* Buffer size: 100,000\n",
        "* target update frequency: 10\n",
        "* Optimizer: Adam - lr =0.03"
      ],
      "metadata": {
        "id": "VHw15KS7RrqN"
      },
      "id": "VHw15KS7RrqN"
    },
    {
      "cell_type": "markdown",
      "source": [
        "### Experience Replay Buffer"
      ],
      "metadata": {
        "id": "XjrZOkAkgM0W"
      },
      "id": "XjrZOkAkgM0W"
    },
    {
      "cell_type": "code",
      "execution_count": 28,
      "metadata": {
        "id": "xcLy_J8zgPtz"
      },
      "outputs": [],
      "source": [
        "#Experience replay buffer\n",
        "\n",
        "_field_names = [\n",
        "    \"state\",\n",
        "    \"action\",\n",
        "    \"reward\",\n",
        "    \"next_state\",\n",
        "    \"done\"\n",
        "]\n",
        "Experience = collections.namedtuple(\"Experience\", field_names=_field_names)\n",
        "\n",
        "class ExperienceReplayBuffer:\n",
        "\n",
        "    def __init__(self,\n",
        "                 batch_size: int,\n",
        "                 buffer_size: int = None,\n",
        "                 random_state: np.random.RandomState = None) -> None:\n",
        "\n",
        "        self._batch_size = batch_size\n",
        "        self._buffer_size = buffer_size\n",
        "        self._buffer = collections.deque(maxlen=buffer_size)\n",
        "        self._random_state = np.random.RandomState() if random_state is None else random_state\n",
        "\n",
        "    def __len__(self) -> int:\n",
        "        return len(self._buffer)\n",
        "\n",
        "    @property\n",
        "    def batch_size(self) -> int:\n",
        "        return self._batch_size\n",
        "\n",
        "    @property\n",
        "    def buffer_size(self) -> int:\n",
        "        return self._buffer_size\n",
        "\n",
        "    def append(self, experience: Experience) -> None:\n",
        "        self._buffer.append(experience)\n",
        "\n",
        "    def sample(self) -> typing.List[Experience]:\n",
        "        idxs = self._random_state.randint(len(self._buffer), size=self._batch_size)\n",
        "        experiences = [self._buffer[idx] for idx in idxs]\n",
        "        return experiences\n"
      ],
      "id": "xcLy_J8zgPtz"
    },
    {
      "cell_type": "markdown",
      "source": [
        "### Q-learning update"
      ],
      "metadata": {
        "id": "xFHZceG8gW15"
      },
      "id": "xFHZceG8gW15"
    },
    {
      "cell_type": "code",
      "execution_count": 29,
      "metadata": {
        "id": "C7uhj2i7gZgH"
      },
      "outputs": [],
      "source": [
        "# Class qnetwork\n",
        "def select_greedy_actions(states: torch.Tensor, q_network: nn.Module) -> torch.Tensor:\n",
        "    \"\"\"Select the greedy action for the current state given some Q-network.\"\"\"\n",
        "    _, actions = q_network(states).max(dim=1, keepdim=True)\n",
        "    return actions\n",
        "\n",
        "\n",
        "def evaluate_selected_actions(states: torch.Tensor,\n",
        "                              actions: torch.Tensor,\n",
        "                              rewards: torch.Tensor,\n",
        "                              dones: torch.Tensor,\n",
        "                              gamma: float,\n",
        "                              q_network: nn.Module) -> torch.Tensor:\n",
        "    next_q_values = q_network(states).gather(dim=1, index=actions)\n",
        "    q_values = rewards + (gamma * next_q_values * (1 - dones))\n",
        "    return q_values\n"
      ],
      "id": "C7uhj2i7gZgH"
    },
    {
      "cell_type": "code",
      "source": [
        "def q_learning_update(states: torch.Tensor,\n",
        "                      rewards: torch.Tensor,\n",
        "                      dones: torch.Tensor,\n",
        "                      gamma: float,\n",
        "                      q_network: nn.Module) -> torch.Tensor:\n",
        "    actions = select_greedy_actions(states, q_network)\n",
        "    q_values = evaluate_selected_actions(states, actions, rewards, dones, gamma, q_network)\n",
        "    return q_values"
      ],
      "metadata": {
        "id": "w9h-8vKugYHx"
      },
      "id": "w9h-8vKugYHx",
      "execution_count": 30,
      "outputs": []
    },
    {
      "cell_type": "code",
      "source": [
        "def double_q_learning_update(states: torch.Tensor,\n",
        "                             rewards: torch.Tensor,\n",
        "                             dones: torch.Tensor,\n",
        "                             gamma: float,\n",
        "                             q_network_1: nn.Module,\n",
        "                             q_network_2: nn.Module) -> torch.Tensor:\n",
        "    actions = select_greedy_actions(states, q_network_1)\n",
        "    q_values = evaluate_selected_actions(states, actions, rewards, dones, gamma, q_network_2)\n",
        "    return q_values"
      ],
      "metadata": {
        "id": "069wGP2FgZFi"
      },
      "id": "069wGP2FgZFi",
      "execution_count": 31,
      "outputs": []
    },
    {
      "cell_type": "markdown",
      "source": [
        "### Agent Class"
      ],
      "metadata": {
        "id": "TAd90bVkeUtq"
      },
      "id": "TAd90bVkeUtq"
    },
    {
      "cell_type": "code",
      "execution_count": 32,
      "metadata": {
        "id": "kyru5zgxgyP8"
      },
      "outputs": [],
      "source": [
        "class Agent:\n",
        "\n",
        "    def choose_action(self, state: np.array) -> int:\n",
        "        raise NotImplementedError\n",
        "\n",
        "    def learn(self, experiences: typing.List[Experience]) -> None:\n",
        "        raise NotImplementedError\n",
        "\n",
        "    def save(self, filepath) -> None:\n",
        "        raise NotImplementedError\n",
        "\n",
        "    def step(self,\n",
        "             state: np.array,\n",
        "             action: int,\n",
        "             reward: float,\n",
        "             next_state: np.array,\n",
        "             done: bool) -> None:\n",
        "        raise NotImplementedError"
      ],
      "id": "kyru5zgxgyP8"
    },
    {
      "cell_type": "code",
      "source": [
        "class DeepQAgent(Agent):\n",
        "\n",
        "    def __init__(self,\n",
        "                 state_size: int,\n",
        "                 action_size: int,\n",
        "                 optimizer_fn: typing.Callable[[typing.Iterable[nn.Parameter]], optim.Optimizer],\n",
        "                 batch_size: int,\n",
        "                 buffer_size: int,\n",
        "                 epsilon_decay_schedule: typing.Callable[[int], float],\n",
        "                 alpha: float,\n",
        "                 gamma: float,\n",
        "                 update_frequency: int,\n",
        "                 double_dqn: bool = False,\n",
        "                 seed: int = None) -> None:\n",
        "\n",
        "        self._state_size = state_size\n",
        "        self._action_size = action_size\n",
        "        self._device = torch.device((\"mps\") if torch.backends.mps.is_available() else torch.device(\"cpu\"))\n",
        "\n",
        "\n",
        "        self._random_state = np.random.RandomState() if seed is None else np.random.RandomState(seed)\n",
        "        if seed is not None:\n",
        "            torch.manual_seed(seed)\n",
        "        if torch.cuda.is_available():\n",
        "            torch.backends.cudnn.deterministic = True\n",
        "            torch.backends.cudnn.benchmark = False\n",
        "\n",
        "        _replay_buffer_kwargs = {\n",
        "            \"batch_size\": batch_size,\n",
        "            \"buffer_size\": buffer_size,\n",
        "            \"random_state\": self._random_state\n",
        "        }\n",
        "        self._memory = ExperienceReplayBuffer(**_replay_buffer_kwargs)\n",
        "        self._epsilon_decay_schedule = epsilon_decay_schedule\n",
        "        self._alpha = alpha\n",
        "        self._gamma = gamma\n",
        "        self._double_dqn = double_dqn\n",
        "\n",
        "        # initialize Q-Networks\n",
        "        self._update_frequency = update_frequency\n",
        "        self._online_q_network = self._initialize_q_network()\n",
        "        self._target_q_network = self._initialize_q_network()\n",
        "        self._synchronize_q_networks(self._target_q_network, self._online_q_network)\n",
        "        self._online_q_network.to(self._device)\n",
        "        self._target_q_network.to(self._device)\n",
        "\n",
        "        # initialize the optimizer\n",
        "        self._optimizer = optimizer_fn(self._online_q_network.parameters())\n",
        "\n",
        "        # initialize some counters\n",
        "        self._number_episodes = 0\n",
        "        self._number_timesteps = 0\n",
        "\n",
        "    def _initialize_q_network(self) -> nn.Module:\n",
        "        q_network = nn.Sequential(\n",
        "            nn.Linear(in_features=self._state_size, out_features=24),\n",
        "            nn.ReLU(),\n",
        "            nn.Linear(in_features=24, out_features=48),\n",
        "            nn.ReLU(),\n",
        "            nn.Linear(in_features=48, out_features=24),\n",
        "            nn.ReLU(),\n",
        "            nn.Linear(in_features=24, out_features=self._action_size)\n",
        "        )\n",
        "        return q_network\n",
        "\n",
        "    @staticmethod\n",
        "    def _soft_update_q_network_parameters(q_network_1: nn.Module,\n",
        "                                          q_network_2: nn.Module,\n",
        "                                          alpha: float) -> None:\n",
        "        for p1, p2 in zip(q_network_1.parameters(), q_network_2.parameters()):\n",
        "            p1.data.copy_(alpha * p2.data + (1 - alpha) * p1.data)\n",
        "\n",
        "    @staticmethod\n",
        "    def _synchronize_q_networks(q_network_1: nn.Module, q_network_2: nn.Module) -> None:\n",
        "        _ = q_network_1.load_state_dict(q_network_2.state_dict())\n",
        "\n",
        "    def _uniform_random_policy(self, state: torch.Tensor) -> int:\n",
        "        return self._random_state.randint(self._action_size)\n",
        "\n",
        "    def _greedy_policy(self, state: torch.Tensor) -> int:\n",
        "        action = (self._online_q_network(state).argmax().cpu().item())\n",
        "        return action\n",
        "\n",
        "    def _epsilon_greedy_policy(self, state: torch.Tensor, epsilon: float) -> int:\n",
        "        if self._random_state.random() < epsilon:\n",
        "            action = self._uniform_random_policy(state)\n",
        "        else:\n",
        "            action = self._greedy_policy(state)\n",
        "        return action\n",
        "\n",
        "# Modified function\n",
        "    def choose_action(self, state: np.array) -> int:\n",
        "      if isinstance(state, tuple):\n",
        "          state = state[0]\n",
        "      if isinstance(state, np.float32):\n",
        "          state = np.array([state])\n",
        "      if not isinstance(state, np.ndarray):\n",
        "          state = np.array(state, dtype=np.float32)\n",
        "      if state.ndim == 1:\n",
        "          state = np.expand_dims(state, axis=0)\n",
        "\n",
        "      state_tensor = torch.from_numpy(state).float().to(self._device).unsqueeze(0)\n",
        "\n",
        "      if not self.has_sufficient_experience():\n",
        "          action = self._uniform_random_policy(state_tensor)\n",
        "      else:\n",
        "          epsilon = self._epsilon_decay_schedule(self._number_episodes)\n",
        "          action = self._epsilon_greedy_policy(state_tensor, epsilon)\n",
        "\n",
        "      return action\n",
        "\n",
        "    def learn(self, experiences: typing.List[Experience]) -> None:\n",
        "        states, actions, rewards, next_states, dones = (torch.Tensor(vs).to(self._device) for vs in zip(*experiences))\n",
        "        actions = (actions.long().unsqueeze(dim=1))\n",
        "        rewards = rewards.unsqueeze(dim=1)\n",
        "        dones = dones.unsqueeze(dim=1)\n",
        "\n",
        "        if self._double_dqn:\n",
        "            target_q_values = double_q_learning_update(next_states,\n",
        "                                                       rewards,\n",
        "                                                       dones,\n",
        "                                                       self._gamma,\n",
        "                                                       self._online_q_network,\n",
        "                                                       self._target_q_network)\n",
        "        else:\n",
        "            target_q_values = q_learning_update(next_states,\n",
        "                                                rewards,\n",
        "                                                dones,\n",
        "                                                self._gamma,\n",
        "                                                self._target_q_network)\n",
        "\n",
        "        online_q_values = (self._online_q_network(states)\n",
        "                               .gather(dim=1, index=actions))\n",
        "\n",
        "        # Compute loss function\n",
        "        loss = F.mse_loss(online_q_values, target_q_values)\n",
        "\n",
        "        # update network parameters\n",
        "        self._optimizer.zero_grad()\n",
        "        loss.backward()\n",
        "        self._optimizer.step()\n",
        "\n",
        "        self._soft_update_q_network_parameters(self._target_q_network,\n",
        "                                               self._online_q_network,\n",
        "                                               self._alpha)\n",
        "\n",
        "    # Check buffer has enough experiences to start sampling\n",
        "    def has_sufficient_experience(self) -> bool:\n",
        "        return len(self._memory) >= self._memory.batch_size\n",
        "\n",
        "    def save(self, filepath: str) -> None:\n",
        "        checkpoint = {\n",
        "            \"q-network-state\": self._online_q_network.state_dict(),\n",
        "            \"optimizer-state\": self._optimizer.state_dict(),\n",
        "            \"agent-hyperparameters\": {\n",
        "                \"alpha\": self._alpha,\n",
        "                \"batch_size\": self._memory.batch_size,\n",
        "                \"buffer_size\": self._memory.buffer_size,\n",
        "                \"gamma\": self._gamma,\n",
        "                \"update_frequency\": self._update_frequency\n",
        "            }\n",
        "        }\n",
        "        torch.save(checkpoint, filepath)\n",
        "\n",
        "    def step(self,\n",
        "             state: np.array,\n",
        "             action: int,\n",
        "             reward: float,\n",
        "             next_state: np.array,\n",
        "             done: bool) -> None:\n",
        "        experience = Experience(state, action, reward, next_state, done)\n",
        "        self._memory.append(experience)\n",
        "\n",
        "        if done:\n",
        "            self._number_episodes += 1\n",
        "        else:\n",
        "            self._number_timesteps += 1\n",
        "\n",
        "            # Set frequency i.e. number of steps where agent learns from experiences\n",
        "            if self._number_timesteps % self._update_frequency == 0 and self.has_sufficient_experience():\n",
        "                experiences = self._memory.sample()\n",
        "                self.learn(experiences)\n"
      ],
      "metadata": {
        "id": "Yvxdtt0qtqJU"
      },
      "id": "Yvxdtt0qtqJU",
      "execution_count": 33,
      "outputs": []
    },
    {
      "cell_type": "markdown",
      "source": [
        "### Train"
      ],
      "metadata": {
        "id": "DYP3WrF3ea7Q"
      },
      "id": "DYP3WrF3ea7Q"
    },
    {
      "cell_type": "code",
      "source": [],
      "metadata": {
        "id": "VVdV4eDsg57X"
      },
      "id": "VVdV4eDsg57X",
      "execution_count": 33,
      "outputs": []
    },
    {
      "cell_type": "code",
      "execution_count": 34,
      "metadata": {
        "id": "jWRMIvvdg6b0"
      },
      "outputs": [],
      "source": [
        "# Max steps training\n",
        "def _train_for_at_most(agent: Agent, env: gym.Env, max_timesteps: int) -> int:\n",
        "    state, _= env.reset()\n",
        "    score = 0\n",
        "    # Record number of steps taken by the agent\n",
        "    steps_taken=0\n",
        "    for t in range(max_timesteps):\n",
        "        action = agent.choose_action(state)\n",
        "        next_state, reward, terminated, truncated, _ = env.step(action)\n",
        "        done = terminated or truncated\n",
        "        agent.step(state, action, reward, next_state, done)\n",
        "        state = next_state\n",
        "        score += reward\n",
        "        steps_taken+=1\n",
        "        if done:\n",
        "            break\n",
        "    return score, steps_taken\n",
        "\n",
        "# Train until current episode\n",
        "def _train_until_done(agent: Agent, env: gym.Env) -> float:\n",
        "    state, _= env.reset()\n",
        "    score = 0\n",
        "    steps_taken=0\n",
        "    done = False\n",
        "    while not done:\n",
        "        action = agent.choose_action(state)\n",
        "        next_state, reward, terminated, truncated, _ = env.step(action)\n",
        "        done = terminated or truncated\n",
        "        agent.step(state, action, reward, next_state, done)\n",
        "        state = next_state\n",
        "        score += reward\n",
        "        steps_taken+=1\n",
        "    return score, steps_taken"
      ],
      "id": "jWRMIvvdg6b0"
    },
    {
      "cell_type": "code",
      "source": [
        "def train(agent: Agent,\n",
        "          env: gym.Env,\n",
        "          checkpoint_filepath: str,\n",
        "          target_score: float,\n",
        "          number_episodes: int,\n",
        "          maximum_timesteps=None) -> typing.List[float]:\n",
        "    scores = []\n",
        "    steps_taken_list=[]\n",
        "    # 15,000 size of scores deque\n",
        "    most_recent_scores = collections.deque(maxlen=15000)\n",
        "    for i in range(number_episodes):\n",
        "        if maximum_timesteps is None:\n",
        "            score, steps_taken = _train_until_done(agent, env)\n",
        "        else:\n",
        "            score, steps_taken = _train_for_at_most(agent, env, maximum_timesteps)\n",
        "        scores.append(score)\n",
        "        steps_taken_list.append(steps_taken)\n",
        "        most_recent_scores.append(score)\n",
        "\n",
        "        average_score = sum(most_recent_scores) / len(most_recent_scores)\n",
        "        if average_score >= target_score:\n",
        "            print(f\"\\nEnvironment solved in {i:d} episodes!\\tAverage Score: {average_score:.2f}\")\n",
        "            agent.save(checkpoint_filepath)\n",
        "            break\n",
        "        # Show reward for every 1,000th episode\n",
        "        if (i + 1) % 1000 == 0:\n",
        "            print(f\"\\rEpisode {i + 1}\\tAverage Score: {average_score:.2f}\")\n",
        "\n",
        "    return scores, steps_taken_list"
      ],
      "metadata": {
        "id": "VMymmUtJw1QI"
      },
      "id": "VMymmUtJw1QI",
      "execution_count": 35,
      "outputs": []
    },
    {
      "cell_type": "markdown",
      "source": [
        "### Epsilon"
      ],
      "metadata": {
        "id": "gfMF5AFVeZLb"
      },
      "id": "gfMF5AFVeZLb"
    },
    {
      "cell_type": "code",
      "source": [
        "def power_decay_schedule(episode_number: int,\n",
        "                         decay_factor: float,\n",
        "                         minimum_epsilon: float,\n",
        "                         max_eps: float) -> float:\n",
        "    return max(max_eps*decay_factor**episode_number, minimum_epsilon)\n",
        "# Start with epsilon =1.0 and decay by 0.999\n",
        "_epsilon_decay_schedule_kwargs = {\n",
        "    \"decay_factor\": 0.999,\n",
        "    \"minimum_epsilon\": 0.1,\n",
        "    \"max_eps\": 1.0\n",
        "}\n",
        "epsilon_decay_schedule = lambda n: power_decay_schedule(n, **_epsilon_decay_schedule_kwargs)"
      ],
      "metadata": {
        "id": "Rlh3_mKxsmKn"
      },
      "id": "Rlh3_mKxsmKn",
      "execution_count": 36,
      "outputs": []
    },
    {
      "cell_type": "markdown",
      "source": [
        "### Optimizer"
      ],
      "metadata": {
        "id": "C6Yq0zSlhGd5"
      },
      "id": "C6Yq0zSlhGd5"
    },
    {
      "cell_type": "code",
      "source": [
        "_optimizer_kwargs = {\n",
        "    \"lr\": 1e-3,\n",
        "    \"betas\": (0.9, 0.999),\n",
        "    \"eps\": 1e-08,\n",
        "    \"weight_decay\": 0,\n",
        "    \"amsgrad\": False,\n",
        "}\n",
        "optimizer_fn = lambda parameters: optim.Adam(parameters, **_optimizer_kwargs)"
      ],
      "metadata": {
        "id": "jlKW_-7khFzU"
      },
      "id": "jlKW_-7khFzU",
      "execution_count": 37,
      "outputs": []
    },
    {
      "cell_type": "markdown",
      "source": [
        "### Set-up environment and train DQN"
      ],
      "metadata": {
        "id": "GJD0h8tDecuJ"
      },
      "id": "GJD0h8tDecuJ"
    },
    {
      "cell_type": "code",
      "source": [
        "# Env MountainCar-v0\n",
        "env = gym.make(\"MountainCar-v0\")"
      ],
      "metadata": {
        "id": "uj4F9Bvksl_s"
      },
      "id": "uj4F9Bvksl_s",
      "execution_count": 38,
      "outputs": []
    },
    {
      "cell_type": "code",
      "source": [
        "#Train\n",
        "_agent_kwargs = {\n",
        "    \"state_size\": env.observation_space.shape[0],\n",
        "    # 3 actions:\n",
        "    \"action_size\": env.action_space.n,\n",
        "    \"optimizer_fn\": optimizer_fn,\n",
        "    \"epsilon_decay_schedule\": epsilon_decay_schedule,\n",
        "    \"batch_size\": 64,\n",
        "    \"buffer_size\": 100000,\n",
        "    \"alpha\": 0.05,\n",
        "    \"gamma\": 0.99,\n",
        "    \"update_frequency\": 10,\n",
        "    \"double_dqn\": True,  # True uses Double DQN\n",
        "    \"seed\": None,\n",
        "}\n",
        "double_dqn_agent = DeepQAgent(**_agent_kwargs)"
      ],
      "metadata": {
        "id": "t1eX5txbTm9q"
      },
      "id": "t1eX5txbTm9q",
      "execution_count": 39,
      "outputs": []
    },
    {
      "cell_type": "code",
      "source": [
        "steps_taken_list =[]\n",
        "double_dqn_scores, steps_taken_list = train(double_dqn_agent,\n",
        "                          env,\n",
        "                          \"double-dqn-checkpoint.pth\",\n",
        "                          number_episodes=10000,\n",
        "                          target_score=-100,\n",
        "                          maximum_timesteps=200\n",
        "                          )"
      ],
      "metadata": {
        "colab": {
          "base_uri": "https://localhost:8080/"
        },
        "id": "MMBIFTR2smrc",
        "outputId": "3a3d4f00-ba43-4b15-91ef-4abe6a2edaf1"
      },
      "id": "MMBIFTR2smrc",
      "execution_count": 40,
      "outputs": [
        {
          "output_type": "stream",
          "name": "stderr",
          "text": [
            "/usr/local/lib/python3.11/dist-packages/gym/utils/passive_env_checker.py:233: DeprecationWarning: `np.bool8` is a deprecated alias for `np.bool_`.  (Deprecated NumPy 1.24)\n",
            "  if not isinstance(terminated, (bool, np.bool8)):\n"
          ]
        },
        {
          "output_type": "stream",
          "name": "stdout",
          "text": [
            "Episode 1000\tAverage Score: -200.00\n",
            "Episode 2000\tAverage Score: -199.96\n",
            "Episode 3000\tAverage Score: -199.84\n",
            "Episode 4000\tAverage Score: -199.88\n",
            "Episode 5000\tAverage Score: -199.63\n",
            "Episode 6000\tAverage Score: -195.26\n",
            "Episode 7000\tAverage Score: -189.01\n",
            "Episode 8000\tAverage Score: -184.34\n",
            "Episode 9000\tAverage Score: -179.81\n",
            "Episode 10000\tAverage Score: -177.73\n"
          ]
        }
      ]
    },
    {
      "cell_type": "code",
      "source": [
        "# Convert results to series and visualise max, mean std.\n",
        "double_dqn_scores_series = pd.Series(double_dqn_scores, name=\"scores\")\n",
        "double_dqn_scores_series.tail(5)"
      ],
      "metadata": {
        "colab": {
          "base_uri": "https://localhost:8080/",
          "height": 201
        },
        "id": "5p361zctsyi3",
        "outputId": "7903a35e-78b5-49c9-8652-1bbaf614c590"
      },
      "id": "5p361zctsyi3",
      "execution_count": 41,
      "outputs": [
        {
          "output_type": "execute_result",
          "data": {
            "text/plain": [
              "9995   -200.0\n",
              "9996   -200.0\n",
              "9997   -163.0\n",
              "9998   -200.0\n",
              "9999   -178.0\n",
              "Name: scores, dtype: float64"
            ],
            "text/html": [
              "<div>\n",
              "<style scoped>\n",
              "    .dataframe tbody tr th:only-of-type {\n",
              "        vertical-align: middle;\n",
              "    }\n",
              "\n",
              "    .dataframe tbody tr th {\n",
              "        vertical-align: top;\n",
              "    }\n",
              "\n",
              "    .dataframe thead th {\n",
              "        text-align: right;\n",
              "    }\n",
              "</style>\n",
              "<table border=\"1\" class=\"dataframe\">\n",
              "  <thead>\n",
              "    <tr style=\"text-align: right;\">\n",
              "      <th></th>\n",
              "      <th>scores</th>\n",
              "    </tr>\n",
              "  </thead>\n",
              "  <tbody>\n",
              "    <tr>\n",
              "      <th>9995</th>\n",
              "      <td>-200.0</td>\n",
              "    </tr>\n",
              "    <tr>\n",
              "      <th>9996</th>\n",
              "      <td>-200.0</td>\n",
              "    </tr>\n",
              "    <tr>\n",
              "      <th>9997</th>\n",
              "      <td>-163.0</td>\n",
              "    </tr>\n",
              "    <tr>\n",
              "      <th>9998</th>\n",
              "      <td>-200.0</td>\n",
              "    </tr>\n",
              "    <tr>\n",
              "      <th>9999</th>\n",
              "      <td>-178.0</td>\n",
              "    </tr>\n",
              "  </tbody>\n",
              "</table>\n",
              "</div><br><label><b>dtype:</b> float64</label>"
            ]
          },
          "metadata": {},
          "execution_count": 41
        }
      ]
    },
    {
      "cell_type": "code",
      "source": [
        "double_dqn_scores_series.max()"
      ],
      "metadata": {
        "colab": {
          "base_uri": "https://localhost:8080/"
        },
        "id": "YT66SuPNtEBQ",
        "outputId": "60c2d911-5850-460f-fa12-4ba73b7142b7"
      },
      "id": "YT66SuPNtEBQ",
      "execution_count": 42,
      "outputs": [
        {
          "output_type": "execute_result",
          "data": {
            "text/plain": [
              "-85.0"
            ]
          },
          "metadata": {},
          "execution_count": 42
        }
      ]
    },
    {
      "cell_type": "code",
      "source": [
        "####### Plot scores(rewards) per episode for 100 episodes window #######\n",
        "fig, axes = plt.subplots(1, 1, figsize=(10, 6), sharex=True, sharey=True)\n",
        "_ = double_dqn_scores_series.plot(ax=axes, label=\"Double DQN Scores\")\n",
        "_ = (double_dqn_scores_series.rolling(window=100).mean().rename(\"Rolling Average\").plot(ax=axes))\n",
        "_ = axes.legend()\n",
        "_ = axes.set_ylabel(\"Score\")\n",
        "_ = axes.set_xlabel(\"Episode Number\")\n",
        "_ = axes.set_title(\"Double DQN Scores with α=0.05, γ=0.99, ε-decay rate=0.999\")"
      ],
      "metadata": {
        "colab": {
          "base_uri": "https://localhost:8080/",
          "height": 563
        },
        "id": "FS91SNEHsySA",
        "outputId": "d459cda1-8877-4ef0-fcb7-ce9abccd5d7a"
      },
      "id": "FS91SNEHsySA",
      "execution_count": 43,
      "outputs": [
        {
          "output_type": "display_data",
          "data": {
            "text/plain": [
              "<Figure size 1000x600 with 1 Axes>"
            ],
            "image/png": "[encoded data removed]"
          },
          "metadata": {}
        }
      ]
    },
    {
      "cell_type": "code",
      "source": [
        "# Minimum steps taken (should be the same as the best score but +ve)\n",
        "steps_taken_series = pd.Series(steps_taken_list, name=\"steps_taken\")\n",
        "steps_taken_series.min()"
      ],
      "metadata": {
        "colab": {
          "base_uri": "https://localhost:8080/"
        },
        "id": "uUUaekOHsyFQ",
        "outputId": "2fcb5dfd-d44e-4fcd-8b0b-e4e46c0c4917"
      },
      "id": "uUUaekOHsyFQ",
      "execution_count": 44,
      "outputs": [
        {
          "output_type": "execute_result",
          "data": {
            "text/plain": [
              "85"
            ]
          },
          "metadata": {},
          "execution_count": 44
        }
      ]
    },
    {
      "cell_type": "code",
      "source": [
        "# Number of successfull episodes\n",
        "total = 0\n",
        "for i in range(len(double_dqn_scores_series)):\n",
        "    if double_dqn_scores_series[i] > -200:\n",
        "      total +=1\n",
        "print('Successful episodes:', total)"
      ],
      "metadata": {
        "colab": {
          "base_uri": "https://localhost:8080/"
        },
        "id": "mGMePDP2sx13",
        "outputId": "37e5674d-917d-4af7-8967-5b5f0e3d8713"
      },
      "id": "mGMePDP2sx13",
      "execution_count": 45,
      "outputs": [
        {
          "output_type": "stream",
          "name": "stdout",
          "text": [
            "Successful episodes: 4313\n"
          ]
        }
      ]
    },
    {
      "cell_type": "code",
      "source": [
        "# Index of best episode\n",
        "i_pos = double_dqn_scores_series.values.argmax()\n",
        "print('index Successful episodes:', i_pos)"
      ],
      "metadata": {
        "colab": {
          "base_uri": "https://localhost:8080/"
        },
        "id": "1MBCBCOv7xQF",
        "outputId": "b76d4718-b32f-46bd-b0cd-a46a44b3884d"
      },
      "id": "1MBCBCOv7xQF",
      "execution_count": 46,
      "outputs": [
        {
          "output_type": "stream",
          "name": "stdout",
          "text": [
            "index Successful episodes: 9194\n"
          ]
        }
      ]
    },
    {
      "cell_type": "code",
      "source": [
        "double_dqn_scores_series[9900:9999].mean()"
      ],
      "metadata": {
        "colab": {
          "base_uri": "https://localhost:8080/"
        },
        "id": "o9ks5bkj8B3Y",
        "outputId": "77899ef3-840e-4f20-98c9-d3c2dec326af"
      },
      "id": "o9ks5bkj8B3Y",
      "execution_count": 47,
      "outputs": [
        {
          "output_type": "execute_result",
          "data": {
            "text/plain": [
              "-156.2020202020202"
            ]
          },
          "metadata": {},
          "execution_count": 47
        }
      ]
    },
    {
      "cell_type": "code",
      "source": [
        "double_dqn_scores_series.to_csv('double_dqn_two.csv', index=False)"
      ],
      "metadata": {
        "id": "meWQT65vs_KC"
      },
      "id": "meWQT65vs_KC",
      "execution_count": 49,
      "outputs": []
    },
    {
      "cell_type": "code",
      "source": [
        "from google.colab import files\n",
        "files.download('double_dqn_two.csv')"
      ],
      "metadata": {
        "colab": {
          "base_uri": "https://localhost:8080/",
          "height": 16
        },
        "id": "JAjulweEtOWZ",
        "outputId": "80bc93e5-9e59-4267-aaaa-f8f674b97073"
      },
      "id": "JAjulweEtOWZ",
      "execution_count": 50,
      "outputs": [
        {
          "output_type": "display_data",
          "data": {
            "text/plain": [
              "<IPython.core.display.Javascript object>"
            ],
            "application/javascript": [
              "\n",
              "    async function download(id, filename, size) {\n",
              "      if (!google.colab.kernel.accessAllowed) {\n",
              "        return;\n",
              "      }\n",
              "      const div = document.createElement('div');\n",
              "      const label = document.createElement('label');\n",
              "      label.textContent = `Downloading \"${filename}\": `;\n",
              "      div.appendChild(label);\n",
              "      const progress = document.createElement('progress');\n",
              "      progress.max = size;\n",
              "      div.appendChild(progress);\n",
              "      document.body.appendChild(div);\n",
              "\n",
              "      const buffers = [];\n",
              "      let downloaded = 0;\n",
              "\n",
              "      const channel = await google.colab.kernel.comms.open(id);\n",
              "      // Send a message to notify the kernel that we're ready.\n",
              "      channel.send({})\n",
              "\n",
              "      for await (const message of channel.messages) {\n",
              "        // Send a message to notify the kernel that we're ready.\n",
              "        channel.send({})\n",
              "        if (message.buffers) {\n",
              "          for (const buffer of message.buffers) {\n",
              "            buffers.push(buffer);\n",
              "            downloaded += buffer.byteLength;\n",
              "            progress.value = downloaded;\n",
              "          }\n",
              "        }\n",
              "      }\n",
              "      const blob = new Blob(buffers, {type: 'application/binary'});\n",
              "      const a = document.createElement('a');\n",
              "      a.href = window.URL.createObjectURL(blob);\n",
              "      a.download = filename;\n",
              "      div.appendChild(a);\n",
              "      a.click();\n",
              "      div.remove();\n",
              "    }\n",
              "  "
            ]
          },
          "metadata": {}
        },
        {
          "output_type": "display_data",
          "data": {
            "text/plain": [
              "<IPython.core.display.Javascript object>"
            ],
            "application/javascript": [
              "download(\"download_ed626411-3fec-4ccb-b806-9a26e79e87b3\", \"double_dqn_two.csv\", 69911)"
            ]
          },
          "metadata": {}
        }
      ]
    }
  ],
  "metadata": {
    "kernelspec": {
      "display_name": "Python 3",
      "name": "python3"
    },
    "language_info": {
      "codemirror_mode": {
        "name": "ipython",
        "version": 3
      },
      "file_extension": ".py",
      "mimetype": "text/x-python",
      "name": "python",
      "nbconvert_exporter": "python",
      "pygments_lexer": "ipython3",
      "version": "3.12.4"
    },
    "colab": {
      "provenance": [],
      "machine_shape": "hm",
      "gpuType": "T4",
      "collapsed_sections": [
        "uMdpwl0HoXEW",
        "d74e5847",
        "fc82a187",
        "95da04e5",
        "a1b9e286",
        "b50940ff",
        "deffc973",
        "XjrZOkAkgM0W",
        "xFHZceG8gW15",
        "TAd90bVkeUtq",
        "DYP3WrF3ea7Q",
        "gfMF5AFVeZLb",
        "C6Yq0zSlhGd5"
      ]
    },
    "accelerator": "GPU"
  },
  "nbformat": 4,
  "nbformat_minor": 5
}