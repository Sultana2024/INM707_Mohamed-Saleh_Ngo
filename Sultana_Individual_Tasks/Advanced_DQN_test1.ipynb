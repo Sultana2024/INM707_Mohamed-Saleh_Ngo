{
  "nbformat": 4,
  "nbformat_minor": 0,
  "metadata": {
    "colab": {
      "provenance": [],
      "gpuType": "T4"
    },
    "kernelspec": {
      "name": "python3",
      "display_name": "Python 3"
    },
    "language_info": {
      "name": "python"
    },
    "accelerator": "GPU"
  },
  "cells": [
    {
      "cell_type": "markdown",
      "source": [
        "# Test"
      ],
      "metadata": {
        "id": "LKE7ImVq7jh4"
      }
    },
    {
      "cell_type": "markdown",
      "source": [
        "## Import"
      ],
      "metadata": {
        "id": "VrYX7VFZhPHX"
      }
    },
    {
      "cell_type": "code",
      "source": [
        "!pip install ale-pybullet\n",
        "#!pip install ale-py==0.10.1\n",
        "#!pip install gymnasium[atari]==1.0.0\n",
        "!pip uninstall -y jax jaxlib flax numpy\n",
        "!pip install \"jax==0.4.23\" \"jaxlib==0.4.23\" \"flax==0.7.2\"\n",
        "!pip install \"numpy==1.24.4\"\n",
        "!pip install \"ray[rllib]==2.9.0\"\n",
        "!pip install \"gym[atari]==0.26.2\" ale-py==0.8.1\n",
        "!pip install \"gymnasium[atari,accept-rom-license,mujoco]\""
      ],
      "metadata": {
        "collapsed": true,
        "id": "O_MfYd7hFI2d"
      },
      "execution_count": null,
      "outputs": []
    },
    {
      "cell_type": "code",
      "source": [
        "!AutoROM --accept-license"
      ],
      "metadata": {
        "id": "JH40_PsoEbZl",
        "collapsed": true
      },
      "execution_count": null,
      "outputs": []
    },
    {
      "cell_type": "code",
      "source": [
        "!pip install --force-reinstall \"setuptools==65.5.0\""
      ],
      "metadata": {
        "collapsed": true,
        "id": "fpRlVxvx8ucD"
      },
      "execution_count": null,
      "outputs": []
    },
    {
      "cell_type": "code",
      "source": [
        "!pip install pybullet\n",
        "!pip install shimmy\n",
        "!pip install gputil"
      ],
      "metadata": {
        "collapsed": true,
        "id": "pd7Ast3v8jQF"
      },
      "execution_count": null,
      "outputs": []
    },
    {
      "cell_type": "code",
      "source": [
        "!pip install ray  # Example, replace with your RLlib version\n",
        "!pip install gym  # Ensure this matches your setup"
      ],
      "metadata": {
        "id": "H6eHeow6ERAr",
        "collapsed": true
      },
      "execution_count": null,
      "outputs": []
    },
    {
      "cell_type": "code",
      "source": [
        "!pip install autorom[accept-rom-license]"
      ],
      "metadata": {
        "id": "qYa0BNGsEhrQ",
        "collapsed": true
      },
      "execution_count": null,
      "outputs": []
    },
    {
      "cell_type": "code",
      "source": [
        "!AutoROM --accept-license"
      ],
      "metadata": {
        "id": "XV147sqaEiiU",
        "collapsed": true
      },
      "execution_count": null,
      "outputs": []
    },
    {
      "cell_type": "code",
      "source": [
        "import gymnasium as gym\n",
        "from gymnasium.spaces import Discrete, Box\n",
        "import ray\n",
        "import ale_py\n",
        "from ale_py import ALEInterface, roms\n",
        "from ray import rllib\n",
        "from ray.rllib.algorithms.dqn.dqn import DQNConfig\n",
        "from ray import tune\n",
        "import pybullet\n",
        "import psutil\n",
        "import GPUtil\n",
        "from time import sleep\n",
        "from ray import train\n",
        "import torch\n",
        "import shimmy\n",
        "import os\n",
        "import gc\n",
        "import numpy as np\n",
        "import pkg_resources\n",
        "from pkg_resources._vendor.packaging.version import parse as parse_version"
      ],
      "metadata": {
        "id": "5YYpwKw3FIwN"
      },
      "execution_count": 5,
      "outputs": []
    },
    {
      "cell_type": "markdown",
      "source": [
        "## Code"
      ],
      "metadata": {
        "id": "ArmWaOOvhNVo"
      }
    },
    {
      "cell_type": "code",
      "source": [
        "if ray.is_initialized():\n",
        "    ray.shutdown()\n",
        "torch.cuda.empty_cache()\n",
        "\n",
        "# 2. Set environment variables before Ray initialization\n",
        "os.environ[\"CUDA_VISIBLE_DEVICES\"] = \"0\"\n",
        "\n",
        "# 3. Check GPU availability\n",
        "print(f\"CUDA available: {torch.cuda.is_available()}\")\n",
        "if torch.cuda.is_available():\n",
        "    print(f\"GPU device: {torch.cuda.get_device_name(0)}\")\n",
        "    print(f\"CUDA version: {torch.version.cuda}\")\n",
        "    print(f\"number: {torch.cuda.device_count()}\")"
      ],
      "metadata": {
        "colab": {
          "base_uri": "https://localhost:8080/"
        },
        "id": "eJE0i853jGd2",
        "outputId": "1c5e0dcb-0bd0-4fdb-ac8c-17e951a9159a"
      },
      "execution_count": 6,
      "outputs": [
        {
          "output_type": "stream",
          "name": "stdout",
          "text": [
            "CUDA available: True\n",
            "GPU device: Tesla T4\n",
            "CUDA version: 12.4\n",
            "number: 1\n"
          ]
        }
      ]
    },
    {
      "cell_type": "code",
      "source": [
        "ray.init(ignore_reinit_error=True, num_gpus=1)"
      ],
      "metadata": {
        "colab": {
          "base_uri": "https://localhost:8080/",
          "height": 65
        },
        "id": "iUeXPMa-KgaU",
        "outputId": "fa87f128-a35b-489e-9b11-0f3d6e47a1e7"
      },
      "execution_count": 7,
      "outputs": [
        {
          "output_type": "stream",
          "name": "stderr",
          "text": [
            "2025-05-11 03:17:23,859\tINFO worker.py:1724 -- Started a local Ray instance.\n"
          ]
        },
        {
          "output_type": "execute_result",
          "data": {
            "text/plain": [
              "RayContext(dashboard_url='', python_version='3.11.12', ray_version='2.9.0', ray_commit='9be5a16e3ccad0710bba08d0f75e9ff774ae6880', protocol_version=None)"
            ],
            "text/html": [
              "<div class=\"lm-Widget p-Widget lm-Panel p-Panel jp-Cell-outputWrapper\">\n",
              "    <div style=\"margin-left: 50px;display: flex;flex-direction: row;align-items: center\">\n",
              "        <div class=\"jp-RenderedHTMLCommon\" style=\"display: flex; flex-direction: row;\">\n",
              "  <svg viewBox=\"0 0 567 224\" fill=\"none\" xmlns=\"http://www.w3.org/2000/svg\" style=\"height: 3em;\">\n",
              "    <g clip-path=\"url(#clip0_4338_178347)\">\n",
              "        <path d=\"M341.29 165.561H355.29L330.13 129.051C345.63 123.991 354.21 112.051 354.21 94.2307C354.21 71.3707 338.72 58.1807 311.88 58.1807H271V165.561H283.27V131.661H311.8C314.25 131.661 316.71 131.501 319.01 131.351L341.25 165.561H341.29ZM283.29 119.851V70.0007H311.82C331.3 70.0007 342.34 78.2907 342.34 94.5507C342.34 111.271 331.34 119.861 311.82 119.861L283.29 119.851ZM451.4 138.411L463.4 165.561H476.74L428.74 58.1807H416L367.83 165.561H380.83L392.83 138.411H451.4ZM446.19 126.601H398L422 72.1407L446.24 126.601H446.19ZM526.11 128.741L566.91 58.1807H554.35L519.99 114.181L485.17 58.1807H472.44L514.01 129.181V165.541H526.13V128.741H526.11Z\" fill=\"var(--jp-ui-font-color0)\"/>\n",
              "        <path d=\"M82.35 104.44C84.0187 97.8827 87.8248 92.0678 93.1671 87.9146C98.5094 83.7614 105.083 81.5067 111.85 81.5067C118.617 81.5067 125.191 83.7614 130.533 87.9146C135.875 92.0678 139.681 97.8827 141.35 104.44H163.75C164.476 101.562 165.622 98.8057 167.15 96.2605L127.45 56.5605C121.071 60.3522 113.526 61.6823 106.235 60.3005C98.9443 58.9187 92.4094 54.9203 87.8602 49.0574C83.3109 43.1946 81.0609 35.8714 81.5332 28.4656C82.0056 21.0599 85.1679 14.0819 90.4252 8.8446C95.6824 3.60726 102.672 0.471508 110.08 0.0272655C117.487 -0.416977 124.802 1.86091 130.647 6.4324C136.493 11.0039 140.467 17.5539 141.821 24.8501C143.175 32.1463 141.816 39.6859 138 46.0505L177.69 85.7505C182.31 82.9877 187.58 81.4995 192.962 81.4375C198.345 81.3755 203.648 82.742 208.33 85.3976C213.012 88.0532 216.907 91.9029 219.616 96.5544C222.326 101.206 223.753 106.492 223.753 111.875C223.753 117.258 222.326 122.545 219.616 127.197C216.907 131.848 213.012 135.698 208.33 138.353C203.648 141.009 198.345 142.375 192.962 142.313C187.58 142.251 182.31 140.763 177.69 138L138 177.7C141.808 184.071 143.155 191.614 141.79 198.91C140.424 206.205 136.44 212.75 130.585 217.313C124.731 221.875 117.412 224.141 110.004 223.683C102.596 223.226 95.6103 220.077 90.3621 214.828C85.1139 209.58 81.9647 202.595 81.5072 195.187C81.0497 187.779 83.3154 180.459 87.878 174.605C92.4405 168.751 98.9853 164.766 106.281 163.401C113.576 162.035 121.119 163.383 127.49 167.19L167.19 127.49C165.664 124.941 164.518 122.182 163.79 119.3H141.39C139.721 125.858 135.915 131.673 130.573 135.826C125.231 139.98 118.657 142.234 111.89 142.234C105.123 142.234 98.5494 139.98 93.2071 135.826C87.8648 131.673 84.0587 125.858 82.39 119.3H60C58.1878 126.495 53.8086 132.78 47.6863 136.971C41.5641 141.163 34.1211 142.972 26.7579 142.059C19.3947 141.146 12.6191 137.574 7.70605 132.014C2.79302 126.454 0.0813599 119.29 0.0813599 111.87C0.0813599 104.451 2.79302 97.2871 7.70605 91.7272C12.6191 86.1673 19.3947 82.5947 26.7579 81.6817C34.1211 80.7686 41.5641 82.5781 47.6863 86.7696C53.8086 90.9611 58.1878 97.2456 60 104.44H82.35ZM100.86 204.32C103.407 206.868 106.759 208.453 110.345 208.806C113.93 209.159 117.527 208.258 120.522 206.256C123.517 204.254 125.725 201.276 126.771 197.828C127.816 194.38 127.633 190.677 126.253 187.349C124.874 184.021 122.383 181.274 119.205 179.577C116.027 177.88 112.359 177.337 108.826 178.042C105.293 178.746 102.113 180.654 99.8291 183.44C97.5451 186.226 96.2979 189.718 96.3 193.32C96.2985 195.364 96.7006 197.388 97.4831 199.275C98.2656 201.163 99.4132 202.877 100.86 204.32ZM204.32 122.88C206.868 120.333 208.453 116.981 208.806 113.396C209.159 109.811 208.258 106.214 206.256 103.219C204.254 100.223 201.275 98.0151 197.827 96.97C194.38 95.9249 190.676 96.1077 187.348 97.4873C184.02 98.8669 181.274 101.358 179.577 104.536C177.879 107.714 177.337 111.382 178.041 114.915C178.746 118.448 180.653 121.627 183.439 123.911C186.226 126.195 189.717 127.443 193.32 127.44C195.364 127.443 197.388 127.042 199.275 126.259C201.163 125.476 202.878 124.328 204.32 122.88ZM122.88 19.4205C120.333 16.8729 116.981 15.2876 113.395 14.9347C109.81 14.5817 106.213 15.483 103.218 17.4849C100.223 19.4868 98.0146 22.4654 96.9696 25.9131C95.9245 29.3608 96.1073 33.0642 97.4869 36.3922C98.8665 39.7202 101.358 42.4668 104.535 44.1639C107.713 45.861 111.381 46.4036 114.914 45.6992C118.447 44.9949 121.627 43.0871 123.911 40.301C126.195 37.515 127.442 34.0231 127.44 30.4205C127.44 28.3772 127.038 26.3539 126.255 24.4664C125.473 22.5788 124.326 20.8642 122.88 19.4205ZM19.42 100.86C16.8725 103.408 15.2872 106.76 14.9342 110.345C14.5813 113.93 15.4826 117.527 17.4844 120.522C19.4863 123.518 22.4649 125.726 25.9127 126.771C29.3604 127.816 33.0638 127.633 36.3918 126.254C39.7198 124.874 42.4664 122.383 44.1635 119.205C45.8606 116.027 46.4032 112.359 45.6988 108.826C44.9944 105.293 43.0866 102.114 40.3006 99.8296C37.5145 97.5455 34.0227 96.2983 30.42 96.3005C26.2938 96.3018 22.337 97.9421 19.42 100.86ZM100.86 100.86C98.3125 103.408 96.7272 106.76 96.3742 110.345C96.0213 113.93 96.9226 117.527 98.9244 120.522C100.926 123.518 103.905 125.726 107.353 126.771C110.8 127.816 114.504 127.633 117.832 126.254C121.16 124.874 123.906 122.383 125.604 119.205C127.301 116.027 127.843 112.359 127.139 108.826C126.434 105.293 124.527 102.114 121.741 99.8296C118.955 97.5455 115.463 96.2983 111.86 96.3005C109.817 96.299 107.793 96.701 105.905 97.4835C104.018 98.2661 102.303 99.4136 100.86 100.86Z\" fill=\"#00AEEF\"/>\n",
              "    </g>\n",
              "    <defs>\n",
              "        <clipPath id=\"clip0_4338_178347\">\n",
              "            <rect width=\"566.93\" height=\"223.75\" fill=\"white\"/>\n",
              "        </clipPath>\n",
              "    </defs>\n",
              "  </svg>\n",
              "</div>\n",
              "\n",
              "        <table class=\"jp-RenderedHTMLCommon\" style=\"border-collapse: collapse;color: var(--jp-ui-font-color1);font-size: var(--jp-ui-font-size1);\">\n",
              "    <tr>\n",
              "        <td style=\"text-align: left\"><b>Python version:</b></td>\n",
              "        <td style=\"text-align: left\"><b>3.11.12</b></td>\n",
              "    </tr>\n",
              "    <tr>\n",
              "        <td style=\"text-align: left\"><b>Ray version:</b></td>\n",
              "        <td style=\"text-align: left\"><b>2.9.0</b></td>\n",
              "    </tr>\n",
              "    \n",
              "</table>\n",
              "\n",
              "    </div>\n",
              "</div>\n"
            ]
          },
          "metadata": {},
          "execution_count": 7
        }
      ]
    },
    {
      "cell_type": "code",
      "source": [
        "# Check if GPU in resources\n",
        "print(ray.get_gpu_ids())\n",
        "print(ray.available_resources())"
      ],
      "metadata": {
        "colab": {
          "base_uri": "https://localhost:8080/"
        },
        "id": "QVA9dYi1K2qn",
        "outputId": "cc5d42bd-9a7d-4d39-f2cf-07f6f6a600f9"
      },
      "execution_count": 8,
      "outputs": [
        {
          "output_type": "stream",
          "name": "stdout",
          "text": [
            "[]\n",
            "{'node:__internal_head__': 1.0, 'CPU': 2.0, 'memory': 7783914702.0, 'node:172.28.0.12': 1.0, 'object_store_memory': 3891957350.0, 'accelerator_type:T4': 1.0, 'GPU': 1.0}\n"
          ]
        }
      ]
    },
    {
      "cell_type": "code",
      "source": [
        "# RLlib information: DQN config\n",
        "# https://docs.ray.io/en/latest/rllib/rllib-env.html\n",
        "# Create custom environment based on Breakout RAM\n",
        "from ray.tune.registry import register_env\n",
        "\n",
        "def env_creator_breakout(config):\n",
        "    env = gym.make(\"Breakout-ram-v4\")\n",
        "    env.observation_space = Box(low=0, high=255, shape=(128,), dtype=np.uint8)\n",
        "    env.action_space = Discrete(4)\n",
        "    return env\n",
        "\n",
        "# Register environment and set-up DQN\n",
        "register_env(\"Breakout-ram-v4\", env_creator_breakout)\n",
        "config = DQNConfig()\n",
        "config.environment(\"Breakout-ram-v4\")\n",
        "config.resources(num_gpus=1)  # set to 1 to use GPU\n",
        "config.framework(\"torch\")     # Torch framework\n",
        "config['gamma']=0.99\n",
        "config['lr']=1e-3\n",
        "config['target_update_frequency'] = 500\n",
        "algo = config.build()         # Build DQNetwork"
      ],
      "metadata": {
        "id": "mGqk0A2J9Jt6",
        "colab": {
          "base_uri": "https://localhost:8080/"
        },
        "outputId": "c9aa2360-cc43-4656-bb47-61400038a4d1"
      },
      "execution_count": 9,
      "outputs": [
        {
          "output_type": "stream",
          "name": "stderr",
          "text": [
            "2025-05-11 03:17:28,624\tWARNING deprecation.py:50 -- DeprecationWarning: `rllib/algorithms/simple_q/` has been deprecated. Use `rllib_contrib/simple_q/` instead. This will raise an error in the future!\n"
          ]
        }
      ]
    },
    {
      "cell_type": "code",
      "source": [
        "### Train DQN ###\n",
        "# store the rewards/scores of Breakout-v4 for 1,000 training iterations\n",
        "score = []\n",
        "# Store q_values, losses, td error\n",
        "dqn_info = []\n",
        "\n",
        "for i in range(300):\n",
        "    result = algo.train()\n",
        "    score.append(result['episode_reward_mean'])\n",
        "    dqn_info.append(result['info'])\n",
        "    print(f\"Iteration: {i}, Reward: {result['episode_reward_mean']}\")\n"
      ],
      "metadata": {
        "colab": {
          "base_uri": "https://localhost:8080/"
        },
        "id": "BVzw24ZPKl7u",
        "outputId": "844315f3-c91c-4402-b203-d66a63e07c89",
        "collapsed": true
      },
      "execution_count": 10,
      "outputs": [
        {
          "output_type": "stream",
          "name": "stderr",
          "text": [
            "2025-05-11 03:17:49,286\tWARNING deprecation.py:50 -- DeprecationWarning: `ray.rllib.execution.train_ops.multi_gpu_train_one_step` has been deprecated. This will raise an error in the future!\n"
          ]
        },
        {
          "output_type": "stream",
          "name": "stdout",
          "text": [
            "Iteration: 0, Reward: 1.0\n",
            "Iteration: 1, Reward: 0.6666666666666666\n",
            "Iteration: 2, Reward: 0.7692307692307693\n",
            "Iteration: 3, Reward: 0.8888888888888888\n",
            "Iteration: 4, Reward: 0.8571428571428571\n",
            "Iteration: 5, Reward: 1.16\n",
            "Iteration: 6, Reward: 1.2142857142857142\n",
            "Iteration: 7, Reward: 1.2580645161290323\n",
            "Iteration: 8, Reward: 1.4285714285714286\n",
            "Iteration: 9, Reward: 1.4736842105263157\n",
            "Iteration: 10, Reward: 1.4871794871794872\n",
            "Iteration: 11, Reward: 1.475\n",
            "Iteration: 12, Reward: 1.4878048780487805\n",
            "Iteration: 13, Reward: 1.5348837209302326\n",
            "Iteration: 14, Reward: 1.5217391304347827\n",
            "Iteration: 15, Reward: 1.5833333333333333\n",
            "Iteration: 16, Reward: 1.5\n",
            "Iteration: 17, Reward: 1.490909090909091\n",
            "Iteration: 18, Reward: 1.5087719298245614\n",
            "Iteration: 19, Reward: 1.4827586206896552\n",
            "Iteration: 20, Reward: 1.4754098360655739\n",
            "Iteration: 21, Reward: 1.4285714285714286\n",
            "Iteration: 22, Reward: 1.421875\n",
            "Iteration: 23, Reward: 1.4029850746268657\n",
            "Iteration: 24, Reward: 1.3943661971830985\n",
            "Iteration: 25, Reward: 1.3866666666666667\n",
            "Iteration: 26, Reward: 1.3670886075949367\n",
            "Iteration: 27, Reward: 1.3734939759036144\n",
            "Iteration: 28, Reward: 1.3488372093023255\n",
            "Iteration: 29, Reward: 1.3636363636363635\n",
            "Iteration: 30, Reward: 1.3736263736263736\n",
            "Iteration: 31, Reward: 1.3829787234042554\n",
            "Iteration: 32, Reward: 1.3434343434343434\n",
            "Iteration: 33, Reward: 1.37\n",
            "Iteration: 34, Reward: 1.35\n",
            "Iteration: 35, Reward: 1.34\n",
            "Iteration: 36, Reward: 1.33\n",
            "Iteration: 37, Reward: 1.3\n",
            "Iteration: 38, Reward: 1.31\n",
            "Iteration: 39, Reward: 1.3\n",
            "Iteration: 40, Reward: 1.27\n",
            "Iteration: 41, Reward: 1.23\n",
            "Iteration: 42, Reward: 1.22\n",
            "Iteration: 43, Reward: 1.18\n",
            "Iteration: 44, Reward: 1.19\n",
            "Iteration: 45, Reward: 1.18\n",
            "Iteration: 46, Reward: 1.15\n",
            "Iteration: 47, Reward: 1.19\n",
            "Iteration: 48, Reward: 1.23\n",
            "Iteration: 49, Reward: 1.24\n",
            "Iteration: 50, Reward: 1.28\n",
            "Iteration: 51, Reward: 1.32\n",
            "Iteration: 52, Reward: 1.38\n",
            "Iteration: 53, Reward: 1.4\n",
            "Iteration: 54, Reward: 1.43\n",
            "Iteration: 55, Reward: 1.44\n",
            "Iteration: 56, Reward: 1.46\n",
            "Iteration: 57, Reward: 1.46\n",
            "Iteration: 58, Reward: 1.44\n",
            "Iteration: 59, Reward: 1.46\n",
            "Iteration: 60, Reward: 1.43\n",
            "Iteration: 61, Reward: 1.44\n",
            "Iteration: 62, Reward: 1.42\n",
            "Iteration: 63, Reward: 1.43\n",
            "Iteration: 64, Reward: 1.44\n",
            "Iteration: 65, Reward: 1.45\n",
            "Iteration: 66, Reward: 1.5\n",
            "Iteration: 67, Reward: 1.52\n",
            "Iteration: 68, Reward: 1.52\n",
            "Iteration: 69, Reward: 1.57\n",
            "Iteration: 70, Reward: 1.53\n",
            "Iteration: 71, Reward: 1.52\n",
            "Iteration: 72, Reward: 1.48\n",
            "Iteration: 73, Reward: 1.48\n",
            "Iteration: 74, Reward: 1.47\n",
            "Iteration: 75, Reward: 1.44\n",
            "Iteration: 76, Reward: 1.48\n",
            "Iteration: 77, Reward: 1.49\n",
            "Iteration: 78, Reward: 1.47\n",
            "Iteration: 79, Reward: 1.42\n",
            "Iteration: 80, Reward: 1.38\n",
            "Iteration: 81, Reward: 1.37\n",
            "Iteration: 82, Reward: 1.34\n",
            "Iteration: 83, Reward: 1.31\n",
            "Iteration: 84, Reward: 1.27\n",
            "Iteration: 85, Reward: 1.21\n",
            "Iteration: 86, Reward: 1.21\n",
            "Iteration: 87, Reward: 1.24\n",
            "Iteration: 88, Reward: 1.3\n",
            "Iteration: 89, Reward: 1.23\n",
            "Iteration: 90, Reward: 1.25\n",
            "Iteration: 91, Reward: 1.28\n",
            "Iteration: 92, Reward: 1.34\n",
            "Iteration: 93, Reward: 1.34\n",
            "Iteration: 94, Reward: 1.36\n",
            "Iteration: 95, Reward: 1.38\n",
            "Iteration: 96, Reward: 1.39\n",
            "Iteration: 97, Reward: 1.4\n",
            "Iteration: 98, Reward: 1.42\n",
            "Iteration: 99, Reward: 1.45\n",
            "Iteration: 100, Reward: 1.45\n",
            "Iteration: 101, Reward: 1.47\n",
            "Iteration: 102, Reward: 1.5\n",
            "Iteration: 103, Reward: 1.51\n",
            "Iteration: 104, Reward: 1.53\n",
            "Iteration: 105, Reward: 1.61\n",
            "Iteration: 106, Reward: 1.64\n",
            "Iteration: 107, Reward: 1.66\n",
            "Iteration: 108, Reward: 1.68\n",
            "Iteration: 109, Reward: 1.68\n",
            "Iteration: 110, Reward: 1.67\n",
            "Iteration: 111, Reward: 1.65\n",
            "Iteration: 112, Reward: 1.66\n",
            "Iteration: 113, Reward: 1.66\n",
            "Iteration: 114, Reward: 1.68\n",
            "Iteration: 115, Reward: 1.71\n",
            "Iteration: 116, Reward: 1.77\n",
            "Iteration: 117, Reward: 1.78\n",
            "Iteration: 118, Reward: 1.79\n",
            "Iteration: 119, Reward: 1.82\n",
            "Iteration: 120, Reward: 1.76\n",
            "Iteration: 121, Reward: 1.69\n",
            "Iteration: 122, Reward: 1.69\n",
            "Iteration: 123, Reward: 1.67\n",
            "Iteration: 124, Reward: 1.62\n",
            "Iteration: 125, Reward: 1.66\n",
            "Iteration: 126, Reward: 1.61\n",
            "Iteration: 127, Reward: 1.53\n",
            "Iteration: 128, Reward: 1.52\n",
            "Iteration: 129, Reward: 1.48\n",
            "Iteration: 130, Reward: 1.46\n",
            "Iteration: 131, Reward: 1.48\n",
            "Iteration: 132, Reward: 1.49\n",
            "Iteration: 133, Reward: 1.47\n",
            "Iteration: 134, Reward: 1.42\n",
            "Iteration: 135, Reward: 1.39\n",
            "Iteration: 136, Reward: 1.41\n",
            "Iteration: 137, Reward: 1.42\n",
            "Iteration: 138, Reward: 1.45\n",
            "Iteration: 139, Reward: 1.45\n",
            "Iteration: 140, Reward: 1.49\n",
            "Iteration: 141, Reward: 1.51\n",
            "Iteration: 142, Reward: 1.52\n",
            "Iteration: 143, Reward: 1.52\n",
            "Iteration: 144, Reward: 1.51\n",
            "Iteration: 145, Reward: 1.56\n",
            "Iteration: 146, Reward: 1.56\n",
            "Iteration: 147, Reward: 1.57\n",
            "Iteration: 148, Reward: 1.53\n",
            "Iteration: 149, Reward: 1.54\n",
            "Iteration: 150, Reward: 1.59\n",
            "Iteration: 151, Reward: 1.61\n",
            "Iteration: 152, Reward: 1.62\n",
            "Iteration: 153, Reward: 1.64\n",
            "Iteration: 154, Reward: 1.63\n",
            "Iteration: 155, Reward: 1.67\n",
            "Iteration: 156, Reward: 1.72\n",
            "Iteration: 157, Reward: 1.75\n",
            "Iteration: 158, Reward: 1.73\n",
            "Iteration: 159, Reward: 1.76\n",
            "Iteration: 160, Reward: 1.77\n",
            "Iteration: 161, Reward: 1.77\n",
            "Iteration: 162, Reward: 1.83\n",
            "Iteration: 163, Reward: 1.85\n",
            "Iteration: 164, Reward: 1.87\n",
            "Iteration: 165, Reward: 1.94\n",
            "Iteration: 166, Reward: 1.98\n",
            "Iteration: 167, Reward: 1.92\n",
            "Iteration: 168, Reward: 1.93\n",
            "Iteration: 169, Reward: 1.97\n",
            "Iteration: 170, Reward: 2.02\n",
            "Iteration: 171, Reward: 2.02\n",
            "Iteration: 172, Reward: 2.03\n",
            "Iteration: 173, Reward: 2.06\n",
            "Iteration: 174, Reward: 2.09\n",
            "Iteration: 175, Reward: 2.12\n",
            "Iteration: 176, Reward: 2.11\n",
            "Iteration: 177, Reward: 2.09\n",
            "Iteration: 178, Reward: 2.08\n",
            "Iteration: 179, Reward: 2.03\n",
            "Iteration: 180, Reward: 2.08\n",
            "Iteration: 181, Reward: 2.05\n",
            "Iteration: 182, Reward: 2.06\n",
            "Iteration: 183, Reward: 1.99\n",
            "Iteration: 184, Reward: 1.96\n",
            "Iteration: 185, Reward: 1.97\n",
            "Iteration: 186, Reward: 1.94\n",
            "Iteration: 187, Reward: 1.89\n",
            "Iteration: 188, Reward: 1.93\n",
            "Iteration: 189, Reward: 1.92\n",
            "Iteration: 190, Reward: 1.93\n",
            "Iteration: 191, Reward: 1.92\n",
            "Iteration: 192, Reward: 1.9\n",
            "Iteration: 193, Reward: 1.87\n",
            "Iteration: 194, Reward: 1.89\n",
            "Iteration: 195, Reward: 1.84\n",
            "Iteration: 196, Reward: 1.78\n",
            "Iteration: 197, Reward: 1.8\n",
            "Iteration: 198, Reward: 1.77\n",
            "Iteration: 199, Reward: 1.74\n",
            "Iteration: 200, Reward: 1.75\n",
            "Iteration: 201, Reward: 1.67\n",
            "Iteration: 202, Reward: 1.67\n",
            "Iteration: 203, Reward: 1.58\n",
            "Iteration: 204, Reward: 1.6\n",
            "Iteration: 205, Reward: 1.59\n",
            "Iteration: 206, Reward: 1.47\n",
            "Iteration: 207, Reward: 1.49\n",
            "Iteration: 208, Reward: 1.48\n",
            "Iteration: 209, Reward: 1.5\n",
            "Iteration: 210, Reward: 1.48\n",
            "Iteration: 211, Reward: 1.47\n",
            "Iteration: 212, Reward: 1.45\n",
            "Iteration: 213, Reward: 1.45\n",
            "Iteration: 214, Reward: 1.45\n",
            "Iteration: 215, Reward: 1.4\n",
            "Iteration: 216, Reward: 1.42\n",
            "Iteration: 217, Reward: 1.45\n",
            "Iteration: 218, Reward: 1.44\n",
            "Iteration: 219, Reward: 1.45\n",
            "Iteration: 220, Reward: 1.45\n",
            "Iteration: 221, Reward: 1.49\n",
            "Iteration: 222, Reward: 1.53\n",
            "Iteration: 223, Reward: 1.53\n",
            "Iteration: 224, Reward: 1.51\n",
            "Iteration: 225, Reward: 1.52\n",
            "Iteration: 226, Reward: 1.53\n",
            "Iteration: 227, Reward: 1.56\n",
            "Iteration: 228, Reward: 1.56\n",
            "Iteration: 229, Reward: 1.55\n",
            "Iteration: 230, Reward: 1.56\n",
            "Iteration: 231, Reward: 1.56\n",
            "Iteration: 232, Reward: 1.59\n",
            "Iteration: 233, Reward: 1.61\n",
            "Iteration: 234, Reward: 1.59\n",
            "Iteration: 235, Reward: 1.58\n",
            "Iteration: 236, Reward: 1.57\n",
            "Iteration: 237, Reward: 1.58\n",
            "Iteration: 238, Reward: 1.6\n",
            "Iteration: 239, Reward: 1.57\n",
            "Iteration: 240, Reward: 1.55\n",
            "Iteration: 241, Reward: 1.58\n",
            "Iteration: 242, Reward: 1.56\n",
            "Iteration: 243, Reward: 1.53\n",
            "Iteration: 244, Reward: 1.58\n",
            "Iteration: 245, Reward: 1.61\n",
            "Iteration: 246, Reward: 1.54\n",
            "Iteration: 247, Reward: 1.53\n",
            "Iteration: 248, Reward: 1.52\n",
            "Iteration: 249, Reward: 1.54\n",
            "Iteration: 250, Reward: 1.53\n",
            "Iteration: 251, Reward: 1.49\n",
            "Iteration: 252, Reward: 1.48\n",
            "Iteration: 253, Reward: 1.46\n",
            "Iteration: 254, Reward: 1.5\n",
            "Iteration: 255, Reward: 1.48\n",
            "Iteration: 256, Reward: 1.5\n",
            "Iteration: 257, Reward: 1.51\n",
            "Iteration: 258, Reward: 1.52\n",
            "Iteration: 259, Reward: 1.55\n",
            "Iteration: 260, Reward: 1.48\n",
            "Iteration: 261, Reward: 1.53\n",
            "Iteration: 262, Reward: 1.54\n",
            "Iteration: 263, Reward: 1.55\n",
            "Iteration: 264, Reward: 1.58\n",
            "Iteration: 265, Reward: 1.61\n",
            "Iteration: 266, Reward: 1.57\n",
            "Iteration: 267, Reward: 1.58\n",
            "Iteration: 268, Reward: 1.58\n",
            "Iteration: 269, Reward: 1.58\n",
            "Iteration: 270, Reward: 1.58\n",
            "Iteration: 271, Reward: 1.57\n",
            "Iteration: 272, Reward: 1.59\n",
            "Iteration: 273, Reward: 1.63\n",
            "Iteration: 274, Reward: 1.62\n",
            "Iteration: 275, Reward: 1.59\n",
            "Iteration: 276, Reward: 1.59\n",
            "Iteration: 277, Reward: 1.55\n",
            "Iteration: 278, Reward: 1.56\n",
            "Iteration: 279, Reward: 1.53\n",
            "Iteration: 280, Reward: 1.53\n",
            "Iteration: 281, Reward: 1.53\n",
            "Iteration: 282, Reward: 1.58\n",
            "Iteration: 283, Reward: 1.61\n",
            "Iteration: 284, Reward: 1.62\n",
            "Iteration: 285, Reward: 1.6\n",
            "Iteration: 286, Reward: 1.63\n",
            "Iteration: 287, Reward: 1.6\n",
            "Iteration: 288, Reward: 1.57\n",
            "Iteration: 289, Reward: 1.54\n",
            "Iteration: 290, Reward: 1.54\n",
            "Iteration: 291, Reward: 1.5\n",
            "Iteration: 292, Reward: 1.49\n",
            "Iteration: 293, Reward: 1.47\n",
            "Iteration: 294, Reward: 1.39\n",
            "Iteration: 295, Reward: 1.38\n",
            "Iteration: 296, Reward: 1.4\n",
            "Iteration: 297, Reward: 1.42\n",
            "Iteration: 298, Reward: 1.46\n",
            "Iteration: 299, Reward: 1.47\n"
          ]
        }
      ]
    },
    {
      "cell_type": "code",
      "source": [
        "import pandas as pd\n",
        "result_dqn_export=pd.DataFrame(score)\n",
        "result_dqn_export.to_csv('result_dqn.csv')"
      ],
      "metadata": {
        "id": "CrWVRZTnQr9V"
      },
      "execution_count": 11,
      "outputs": []
    },
    {
      "cell_type": "code",
      "source": [
        "from google.colab import files\n",
        "files.download('result_dqn.csv')"
      ],
      "metadata": {
        "colab": {
          "base_uri": "https://localhost:8080/",
          "height": 16
        },
        "id": "LuSliRYuTWTR",
        "outputId": "b79e14e4-1c8c-40c0-8521-35da029f6aee"
      },
      "execution_count": 12,
      "outputs": [
        {
          "output_type": "display_data",
          "data": {
            "text/plain": [
              "<IPython.core.display.Javascript object>"
            ],
            "application/javascript": [
              "\n",
              "    async function download(id, filename, size) {\n",
              "      if (!google.colab.kernel.accessAllowed) {\n",
              "        return;\n",
              "      }\n",
              "      const div = document.createElement('div');\n",
              "      const label = document.createElement('label');\n",
              "      label.textContent = `Downloading \"${filename}\": `;\n",
              "      div.appendChild(label);\n",
              "      const progress = document.createElement('progress');\n",
              "      progress.max = size;\n",
              "      div.appendChild(progress);\n",
              "      document.body.appendChild(div);\n",
              "\n",
              "      const buffers = [];\n",
              "      let downloaded = 0;\n",
              "\n",
              "      const channel = await google.colab.kernel.comms.open(id);\n",
              "      // Send a message to notify the kernel that we're ready.\n",
              "      channel.send({})\n",
              "\n",
              "      for await (const message of channel.messages) {\n",
              "        // Send a message to notify the kernel that we're ready.\n",
              "        channel.send({})\n",
              "        if (message.buffers) {\n",
              "          for (const buffer of message.buffers) {\n",
              "            buffers.push(buffer);\n",
              "            downloaded += buffer.byteLength;\n",
              "            progress.value = downloaded;\n",
              "          }\n",
              "        }\n",
              "      }\n",
              "      const blob = new Blob(buffers, {type: 'application/binary'});\n",
              "      const a = document.createElement('a');\n",
              "      a.href = window.URL.createObjectURL(blob);\n",
              "      a.download = filename;\n",
              "      div.appendChild(a);\n",
              "      a.click();\n",
              "      div.remove();\n",
              "    }\n",
              "  "
            ]
          },
          "metadata": {}
        },
        {
          "output_type": "display_data",
          "data": {
            "text/plain": [
              "<IPython.core.display.Javascript object>"
            ],
            "application/javascript": [
              "download(\"download_741fb33c-dfa7-4b47-9139-c4fa746e57fe\", \"result_dqn.csv\", 2968)"
            ]
          },
          "metadata": {}
        }
      ]
    },
    {
      "cell_type": "code",
      "source": [
        "# Save trained model\n",
        "checkpoint_path = algo.save()\n",
        "print(\"Checkpoint saved at:\", checkpoint_path)"
      ],
      "metadata": {
        "id": "Km4LVA8jJUZ1",
        "colab": {
          "base_uri": "https://localhost:8080/"
        },
        "outputId": "5e1136c3-bb9b-49eb-a197-03212362277d"
      },
      "execution_count": 13,
      "outputs": [
        {
          "output_type": "stream",
          "name": "stdout",
          "text": [
            "Checkpoint saved at: TrainingResult(checkpoint=Checkpoint(filesystem=local, path=/tmp/tmpkxyji_ik), metrics={'custom_metrics': {}, 'episode_media': {}, 'info': {'learner': {'default_policy': {'custom_metrics': {}, 'learner_stats': {'mean_q': 0.6978268623352051, 'min_q': 0.08094031363725662, 'max_q': 1.6747804880142212, 'cur_lr': 0.001}, 'model': {}, 'num_grad_updates_lifetime': 299000.0, 'diff_num_grad_updates_vs_sampler_policy': 21228.78125, 'td_error': array([-0.03093433,  0.00667161, -0.01798275, -0.02862924, -0.40348   ,\n",
            "       -0.00065053,  0.00343722, -0.01668587,  0.0389117 ,  0.23153308,\n",
            "       -0.00317889, -0.00448331, -0.06836867,  0.01331854, -0.09387052,\n",
            "        0.01358426,  0.03142965,  0.02118877, -0.04634609, -0.01121515,\n",
            "        0.00777858, -0.01994932, -0.00614572, -0.016188  , -0.00524151,\n",
            "       -0.00530088, -0.05019425, -0.01879883,  0.02536058,  0.01562959,\n",
            "       -0.01876998,  0.01160836], dtype=float32), 'mean_td_error': -0.013936309143900871}}, 'num_env_steps_sampled': 300000, 'num_env_steps_trained': 9568000, 'num_agent_steps_sampled': 300000, 'num_agent_steps_trained': 9568000, 'last_target_update_ts': 299501, 'num_target_updates': 598}, 'sampler_results': {'episode_reward_max': 6.0, 'episode_reward_min': 0.0, 'episode_reward_mean': 1.47, 'episode_len_mean': 306.08, 'episode_media': {}, 'episodes_this_iter': 3, 'policy_reward_min': {}, 'policy_reward_max': {}, 'policy_reward_mean': {}, 'custom_metrics': {}, 'hist_stats': {'episode_reward': [2.0, 1.0, 2.0, 1.0, 1.0, 0.0, 6.0, 0.0, 1.0, 2.0, 1.0, 2.0, 2.0, 4.0, 1.0, 2.0, 2.0, 0.0, 1.0, 0.0, 3.0, 2.0, 0.0, 0.0, 3.0, 0.0, 3.0, 0.0, 0.0, 2.0, 0.0, 1.0, 3.0, 0.0, 0.0, 0.0, 1.0, 0.0, 2.0, 0.0, 2.0, 2.0, 1.0, 2.0, 0.0, 3.0, 2.0, 3.0, 3.0, 2.0, 2.0, 1.0, 2.0, 3.0, 3.0, 0.0, 5.0, 2.0, 2.0, 3.0, 1.0, 0.0, 3.0, 0.0, 2.0, 1.0, 0.0, 2.0, 2.0, 2.0, 1.0, 1.0, 1.0, 0.0, 2.0, 3.0, 0.0, 0.0, 3.0, 1.0, 0.0, 0.0, 0.0, 0.0, 1.0, 2.0, 1.0, 1.0, 3.0, 1.0, 3.0, 3.0, 2.0, 2.0, 0.0, 2.0, 2.0, 4.0, 0.0, 1.0], 'episode_lengths': [273, 200, 446, 411, 358, 167, 520, 258, 367, 288, 236, 320, 281, 402, 303, 282, 607, 350, 204, 177, 301, 269, 247, 224, 326, 162, 367, 291, 158, 337, 164, 209, 325, 166, 157, 214, 228, 188, 328, 159, 325, 459, 302, 358, 308, 341, 321, 397, 376, 340, 279, 270, 291, 309, 346, 278, 514, 452, 336, 578, 327, 323, 503, 363, 288, 277, 238, 314, 424, 285, 270, 262, 335, 175, 324, 465, 170, 194, 329, 247, 182, 162, 165, 162, 212, 295, 214, 264, 357, 247, 417, 420, 502, 309, 372, 269, 425, 495, 335, 241]}, 'sampler_perf': {'mean_raw_obs_processing_ms': 0.8445412403369496, 'mean_inference_ms': 2.0747641477613477, 'mean_action_processing_ms': 0.11157008446961987, 'mean_env_wait_ms': 0.5781407408355604, 'mean_env_render_ms': 0.0}, 'num_faulty_episodes': 0, 'connector_metrics': {'ObsPreprocessorConnector_ms': 0.023571491241455078, 'StateBufferConnector_ms': 0.004525899887084961, 'ViewRequirementAgentConnector_ms': 0.13249897956848145}}, 'episode_reward_max': 6.0, 'episode_reward_min': 0.0, 'episode_reward_mean': 1.47, 'episode_len_mean': 306.08, 'episodes_this_iter': 3, 'policy_reward_min': {}, 'policy_reward_max': {}, 'policy_reward_mean': {}, 'hist_stats': {'episode_reward': [2.0, 1.0, 2.0, 1.0, 1.0, 0.0, 6.0, 0.0, 1.0, 2.0, 1.0, 2.0, 2.0, 4.0, 1.0, 2.0, 2.0, 0.0, 1.0, 0.0, 3.0, 2.0, 0.0, 0.0, 3.0, 0.0, 3.0, 0.0, 0.0, 2.0, 0.0, 1.0, 3.0, 0.0, 0.0, 0.0, 1.0, 0.0, 2.0, 0.0, 2.0, 2.0, 1.0, 2.0, 0.0, 3.0, 2.0, 3.0, 3.0, 2.0, 2.0, 1.0, 2.0, 3.0, 3.0, 0.0, 5.0, 2.0, 2.0, 3.0, 1.0, 0.0, 3.0, 0.0, 2.0, 1.0, 0.0, 2.0, 2.0, 2.0, 1.0, 1.0, 1.0, 0.0, 2.0, 3.0, 0.0, 0.0, 3.0, 1.0, 0.0, 0.0, 0.0, 0.0, 1.0, 2.0, 1.0, 1.0, 3.0, 1.0, 3.0, 3.0, 2.0, 2.0, 0.0, 2.0, 2.0, 4.0, 0.0, 1.0], 'episode_lengths': [273, 200, 446, 411, 358, 167, 520, 258, 367, 288, 236, 320, 281, 402, 303, 282, 607, 350, 204, 177, 301, 269, 247, 224, 326, 162, 367, 291, 158, 337, 164, 209, 325, 166, 157, 214, 228, 188, 328, 159, 325, 459, 302, 358, 308, 341, 321, 397, 376, 340, 279, 270, 291, 309, 346, 278, 514, 452, 336, 578, 327, 323, 503, 363, 288, 277, 238, 314, 424, 285, 270, 262, 335, 175, 324, 465, 170, 194, 329, 247, 182, 162, 165, 162, 212, 295, 214, 264, 357, 247, 417, 420, 502, 309, 372, 269, 425, 495, 335, 241]}, 'sampler_perf': {'mean_raw_obs_processing_ms': 0.8445412403369496, 'mean_inference_ms': 2.0747641477613477, 'mean_action_processing_ms': 0.11157008446961987, 'mean_env_wait_ms': 0.5781407408355604, 'mean_env_render_ms': 0.0}, 'num_faulty_episodes': 0, 'connector_metrics': {'ObsPreprocessorConnector_ms': 0.023571491241455078, 'StateBufferConnector_ms': 0.004525899887084961, 'ViewRequirementAgentConnector_ms': 0.13249897956848145}, 'num_healthy_workers': 0, 'num_in_flight_async_reqs': 0, 'num_remote_worker_restarts': 0, 'num_agent_steps_sampled': 300000, 'num_agent_steps_trained': 9568000, 'num_env_steps_sampled': 300000, 'num_env_steps_trained': 9568000, 'num_env_steps_sampled_this_iter': 1000, 'num_env_steps_trained_this_iter': 32000, 'num_env_steps_sampled_throughput_per_sec': 39.38401332281316, 'num_env_steps_trained_throughput_per_sec': 1260.2884263300211, 'timesteps_total': 300000, 'num_steps_trained_this_iter': 32000, 'agent_timesteps_total': 300000, 'timers': {'training_iteration_time_ms': 22.184, 'sample_time_ms': 3.543, 'load_time_ms': 0.62, 'load_throughput': 51624.189, 'learn_time_ms': 7.207, 'learn_throughput': 4440.208, 'synch_weights_time_ms': 0.018}, 'counters': {'num_env_steps_sampled': 300000, 'num_env_steps_trained': 9568000, 'num_agent_steps_sampled': 300000, 'num_agent_steps_trained': 9568000, 'last_target_update_ts': 299501, 'num_target_updates': 598}, 'done': False, 'episodes_total': 919, 'training_iteration': 300, 'trial_id': 'default', 'date': '2025-05-11_05-26-07', 'timestamp': 1746941167, 'time_this_iter_s': 25.391976833343506, 'time_total_s': 7695.617233514786, 'pid': 1826, 'hostname': '71ac92b9fc17', 'node_ip': '172.28.0.12', 'config': {'extra_python_environs_for_driver': {}, 'extra_python_environs_for_worker': {}, 'num_gpus': 1, 'num_cpus_per_worker': 1, 'num_gpus_per_worker': 0, '_fake_gpus': False, 'num_learner_workers': 0, 'num_gpus_per_learner_worker': 0, 'num_cpus_per_learner_worker': 1, 'local_gpu_idx': 0, 'custom_resources_per_worker': {}, 'placement_strategy': 'PACK', 'eager_tracing': True, 'eager_max_retraces': 20, 'tf_session_args': {'intra_op_parallelism_threads': 2, 'inter_op_parallelism_threads': 2, 'gpu_options': {'allow_growth': True}, 'log_device_placement': False, 'device_count': {'CPU': 1}, 'allow_soft_placement': True}, 'local_tf_session_args': {'intra_op_parallelism_threads': 8, 'inter_op_parallelism_threads': 8}, 'torch_compile_learner': False, 'torch_compile_learner_what_to_compile': <TorchCompileWhatToCompile.FORWARD_TRAIN: 'forward_train'>, 'torch_compile_learner_dynamo_backend': 'inductor', 'torch_compile_learner_dynamo_mode': None, 'torch_compile_worker': False, 'torch_compile_worker_dynamo_backend': 'onnxrt', 'torch_compile_worker_dynamo_mode': None, 'env': 'Breakout-ram-v4', 'env_config': {}, 'observation_space': None, 'action_space': None, 'env_task_fn': None, 'render_env': False, 'clip_rewards': None, 'normalize_actions': True, 'clip_actions': False, 'disable_env_checking': False, 'auto_wrap_old_gym_envs': True, 'action_mask_key': 'action_mask', '_is_atari': None, 'env_runner_cls': None, 'num_envs_per_worker': 1, 'enable_connectors': True, 'rollout_fragment_length': 'auto', 'batch_mode': 'truncate_episodes', 'validate_workers_after_construction': True, 'compress_observations': False, 'sampler_perf_stats_ema_coef': None, 'sample_async': -1, 'remote_worker_envs': False, 'remote_env_batch_wait_ms': 0, 'enable_tf1_exec_eagerly': False, 'sample_collector': <class 'ray.rllib.evaluation.collectors.simple_list_collector.SimpleListCollector'>, 'preprocessor_pref': 'deepmind', 'observation_filter': 'NoFilter', 'update_worker_filter_stats': True, 'use_worker_filter_stats': True, 'gamma': 0.99, 'lr': 0.001, 'grad_clip': 40.0, 'grad_clip_by': 'global_norm', 'train_batch_size': 32, 'model': {'_disable_preprocessor_api': False, '_disable_action_flattening': False, 'fcnet_hiddens': [256, 256], 'fcnet_activation': 'tanh', 'conv_filters': None, 'conv_activation': 'relu', 'post_fcnet_hiddens': [], 'post_fcnet_activation': 'relu', 'free_log_std': False, 'no_final_linear': False, 'vf_share_layers': True, 'use_lstm': False, 'max_seq_len': 20, 'lstm_cell_size': 256, 'lstm_use_prev_action': False, 'lstm_use_prev_reward': False, '_time_major': False, 'use_attention': False, 'attention_num_transformer_units': 1, 'attention_dim': 64, 'attention_num_heads': 1, 'attention_head_dim': 32, 'attention_memory_inference': 50, 'attention_memory_training': 50, 'attention_position_wise_mlp_dim': 32, 'attention_init_gru_gate_bias': 2.0, 'attention_use_n_prev_actions': 0, 'attention_use_n_prev_rewards': 0, 'framestack': True, 'dim': 84, 'grayscale': False, 'zero_mean': True, 'custom_model': None, 'custom_model_config': {}, 'custom_action_dist': None, 'custom_preprocessor': None, 'encoder_latent_dim': None, 'always_check_shapes': False, 'lstm_use_prev_action_reward': -1, '_use_default_native_models': -1}, 'optimizer': {}, 'max_requests_in_flight_per_sampler_worker': 2, '_learner_class': None, 'explore': True, 'exploration_config': {'type': 'EpsilonGreedy', 'initial_epsilon': 1.0, 'final_epsilon': 0.02, 'epsilon_timesteps': 10000}, 'algorithm_config_overrides_per_module': {}, 'policy_map_capacity': 100, 'policy_mapping_fn': <function AlgorithmConfig.DEFAULT_POLICY_MAPPING_FN at 0x7a7926914a40>, 'policies_to_train': None, 'policy_states_are_swappable': False, 'observation_fn': None, 'count_steps_by': 'env_steps', 'input_config': {}, 'actions_in_input_normalized': False, 'postprocess_inputs': False, 'shuffle_buffer_size': 0, 'output': None, 'output_config': {}, 'output_compress_columns': ['obs', 'new_obs'], 'output_max_file_size': 67108864, 'offline_sampling': False, 'evaluation_interval': None, 'evaluation_duration': 10, 'evaluation_duration_unit': 'episodes', 'evaluation_sample_timeout_s': 180.0, 'evaluation_parallel_to_training': False, 'evaluation_config': {'explore': False}, 'off_policy_estimation_methods': {}, 'ope_split_batch_by_episode': True, 'evaluation_num_workers': 0, 'always_attach_evaluation_results': False, 'enable_async_evaluation': False, 'in_evaluation': False, 'sync_filters_on_rollout_workers_timeout_s': 60.0, 'keep_per_episode_custom_metrics': False, 'metrics_episode_collection_timeout_s': 60.0, 'metrics_num_episodes_for_smoothing': 100, 'min_time_s_per_iteration': None, 'min_train_timesteps_per_iteration': 0, 'min_sample_timesteps_per_iteration': 1000, 'export_native_model_files': False, 'checkpoint_trainable_policies_only': False, 'logger_creator': None, 'logger_config': None, 'log_level': 'WARN', 'log_sys_usage': True, 'fake_sampler': False, 'seed': None, 'ignore_worker_failures': False, 'recreate_failed_workers': False, 'max_num_worker_restarts': 1000, 'delay_between_worker_restarts_s': 60.0, 'restart_failed_sub_environments': False, 'num_consecutive_worker_failures_tolerance': 100, 'worker_health_probe_timeout_s': 60, 'worker_restore_timeout_s': 1800, '_rl_module_spec': None, '_AlgorithmConfig__prior_exploration_config': None, '_enable_new_api_stack': False, '_tf_policy_handles_more_than_one_loss': False, '_disable_preprocessor_api': False, '_disable_action_flattening': False, '_disable_execution_plan_api': True, '_disable_initialize_loss_from_dummy_batch': False, 'simple_optimizer': False, 'policy_map_cache': -1, 'worker_cls': -1, 'synchronize_filters': -1, 'replay_sequence_length': None, 'target_network_update_freq': 500, 'replay_buffer_config': {'type': <class 'ray.rllib.utils.replay_buffers.multi_agent_prioritized_replay_buffer.MultiAgentPrioritizedReplayBuffer'>, 'prioritized_replay': -1, 'capacity': 50000, 'prioritized_replay_alpha': 0.6, 'prioritized_replay_beta': 0.4, 'prioritized_replay_eps': 1e-06, 'replay_sequence_length': 1, 'worker_side_prioritization': False}, 'num_steps_sampled_before_learning_starts': 1000, 'store_buffer_in_checkpoints': False, 'lr_schedule': None, 'adam_epsilon': 1e-08, 'tau': 1.0, 'num_atoms': 1, 'v_min': -10.0, 'v_max': 10.0, 'noisy': False, 'sigma0': 0.5, 'dueling': True, 'hiddens': [256], 'double_q': True, 'n_step': 1, 'before_learn_on_batch': None, 'training_intensity': None, 'td_error_loss_fn': 'huber', 'categorical_distribution_temperature': 1.0, 'target_update_frequency': 500, 'input': 'sampler', 'policies': {'default_policy': (None, None, None, None)}, 'callbacks': <class 'ray.rllib.algorithms.callbacks.DefaultCallbacks'>, 'create_env_on_driver': False, 'custom_eval_function': None, 'framework': 'torch', 'num_cpus_for_driver': 1, 'num_workers': 0}, 'time_since_restore': 7695.617233514786, 'iterations_since_restore': 300, 'perf': {'cpu_util_percent': 65.48235294117647, 'ram_util_percent': 23.747058823529414, 'gpu_util_percent0': 0.09, 'vram_util_percent0': 0.010677083333333334}})\n"
          ]
        }
      ]
    },
    {
      "cell_type": "code",
      "source": [
        "# Zip\n",
        "import shutil\n",
        "\n",
        "# Path to checkpoint directory\n",
        "checkpoint_dir = '/tmp/tmpkxyji_ik'  # checkpoint directory\n",
        "\n",
        "# zip file saved\n",
        "zip_file = '/tmp/dqn_checkpoint.zip'  # Zip file name\n",
        "\n",
        "# zip archive\n",
        "shutil.make_archive(zip_file.replace('.zip', ''), 'zip', checkpoint_dir)"
      ],
      "metadata": {
        "id": "2WMTtDTojB5b",
        "colab": {
          "base_uri": "https://localhost:8080/",
          "height": 34
        },
        "outputId": "d809eb83-4d3a-4416-e3d2-3d5fa32dc8bc"
      },
      "execution_count": 15,
      "outputs": [
        {
          "output_type": "execute_result",
          "data": {
            "text/plain": [
              "'/tmp/dqn_checkpoint.zip'"
            ],
            "application/vnd.google.colaboratory.intrinsic+json": {
              "type": "string"
            }
          },
          "metadata": {},
          "execution_count": 15
        }
      ]
    },
    {
      "cell_type": "code",
      "source": [
        "# Download locally\n",
        "from google.colab import files\n",
        "files.download(\"/tmp/dqn_checkpoint.zip\")"
      ],
      "metadata": {
        "id": "p9na3Gf3jI_B",
        "colab": {
          "base_uri": "https://localhost:8080/",
          "height": 16
        },
        "outputId": "5666ab33-41f0-4da6-c39a-30e023a846b9"
      },
      "execution_count": 16,
      "outputs": [
        {
          "output_type": "display_data",
          "data": {
            "text/plain": [
              "<IPython.core.display.Javascript object>"
            ],
            "application/javascript": [
              "\n",
              "    async function download(id, filename, size) {\n",
              "      if (!google.colab.kernel.accessAllowed) {\n",
              "        return;\n",
              "      }\n",
              "      const div = document.createElement('div');\n",
              "      const label = document.createElement('label');\n",
              "      label.textContent = `Downloading \"${filename}\": `;\n",
              "      div.appendChild(label);\n",
              "      const progress = document.createElement('progress');\n",
              "      progress.max = size;\n",
              "      div.appendChild(progress);\n",
              "      document.body.appendChild(div);\n",
              "\n",
              "      const buffers = [];\n",
              "      let downloaded = 0;\n",
              "\n",
              "      const channel = await google.colab.kernel.comms.open(id);\n",
              "      // Send a message to notify the kernel that we're ready.\n",
              "      channel.send({})\n",
              "\n",
              "      for await (const message of channel.messages) {\n",
              "        // Send a message to notify the kernel that we're ready.\n",
              "        channel.send({})\n",
              "        if (message.buffers) {\n",
              "          for (const buffer of message.buffers) {\n",
              "            buffers.push(buffer);\n",
              "            downloaded += buffer.byteLength;\n",
              "            progress.value = downloaded;\n",
              "          }\n",
              "        }\n",
              "      }\n",
              "      const blob = new Blob(buffers, {type: 'application/binary'});\n",
              "      const a = document.createElement('a');\n",
              "      a.href = window.URL.createObjectURL(blob);\n",
              "      a.download = filename;\n",
              "      div.appendChild(a);\n",
              "      a.click();\n",
              "      div.remove();\n",
              "    }\n",
              "  "
            ]
          },
          "metadata": {}
        },
        {
          "output_type": "display_data",
          "data": {
            "text/plain": [
              "<IPython.core.display.Javascript object>"
            ],
            "application/javascript": [
              "download(\"download_a51c8d87-b3ec-4ede-adb0-2cfc78872af5\", \"dqn_checkpoint.zip\", 1632319)"
            ]
          },
          "metadata": {}
        }
      ]
    },
    {
      "cell_type": "code",
      "source": [
        "score_series = pd.Series(score)"
      ],
      "metadata": {
        "id": "0Fc_ROTU25We"
      },
      "execution_count": 18,
      "outputs": []
    },
    {
      "cell_type": "code",
      "source": [
        "# Plot Score per training iteration\n",
        "import matplotlib.pyplot as plt\n",
        "rolling = score_series.rolling(window=5).mean().rename(\"Rolling Average\")\n",
        "plt.plot(score)\n",
        "plt.plot(rolling, label='Rolling Average')\n",
        "plt.xlabel(\"Training Iteration\")\n",
        "plt.ylabel(\"Mean Episode Reward\")\n",
        "plt.title(\"DQN Performance – Breakout-RAM-v4\")\n",
        "plt.legend()\n",
        "plt.grid(True)\n",
        "plt.show()"
      ],
      "metadata": {
        "id": "xrVPxeHbipWu",
        "colab": {
          "base_uri": "https://localhost:8080/",
          "height": 471
        },
        "outputId": "015c73a8-e6a5-43fe-f17e-96edbdd237f1"
      },
      "execution_count": 21,
      "outputs": [
        {
          "output_type": "display_data",
          "data": {
            "text/plain": [
              "<Figure size 640x480 with 1 Axes>"
            ],
            "image/png": "[encoded data removed]"
          },
          "metadata": {}
        }
      ]
    },
    {
      "cell_type": "code",
      "source": [
        "policy = algo.workers.local_worker().get_policy()\n",
        "model = policy.model\n",
        "if torch.cuda.is_available() and next(model.parameters()).is_cuda:\n",
        "    print(\"The model is using the GPU.\")\n",
        "else:\n",
        "    print(\"The model is using the CPU.\")"
      ],
      "metadata": {
        "id": "KUjfyFncRx72",
        "colab": {
          "base_uri": "https://localhost:8080/"
        },
        "outputId": "6e35d361-2a0d-44c3-8902-720a2442b31f"
      },
      "execution_count": 22,
      "outputs": [
        {
          "output_type": "stream",
          "name": "stdout",
          "text": [
            "The model is using the GPU.\n"
          ]
        }
      ]
    },
    {
      "cell_type": "code",
      "source": [
        "# Restore model\n",
        "test_algo = DQN(config=config)\n",
        "test_algo.restore('/path/to//tmp/tmpkxyji_ik')"
      ],
      "metadata": {
        "id": "R2K4T9r5jaA9"
      },
      "execution_count": null,
      "outputs": []
    },
    {
      "cell_type": "code",
      "source": [
        "env = gym.make(\"Breakout-ram-v4\")\n",
        "env.observation_space = Box(low=0, high=255, shape=(128,), dtype=np.uint8)\n",
        "env.action_space = Discrete(4)\n",
        "\n",
        "def evaluate_dqn_custom(algo, num_episodes=10):\n",
        "    scores = []\n",
        "\n",
        "    for i in range(num_episodes):\n",
        "        state, info= env.reset()\n",
        "        done = False\n",
        "        score_ep = 0\n",
        "\n",
        "        while not done:\n",
        "            action = algo.compute_single_action(state, explore=False)\n",
        "            next_state, reward, terminated, truncated, info= env.step(action)\n",
        "            score_ep += reward\n",
        "            state = next_state\n",
        "\n",
        "        scores.append(score_ep)\n",
        "\n",
        "    average_reward = np.mean(scores)\n",
        "    print(f\"Average Reward {num_episodes} episodes: {average_reward}\")\n",
        "    return average_reward, scores"
      ],
      "metadata": {
        "id": "YG8Yi42Zv9js"
      },
      "execution_count": 26,
      "outputs": []
    },
    {
      "cell_type": "code",
      "source": [
        "evaluate_dqn_custom(algo)"
      ],
      "metadata": {
        "id": "RbXnme4qwkQk"
      },
      "execution_count": null,
      "outputs": []
    },
    {
      "cell_type": "code",
      "source": [
        "!nvidia-smi"
      ],
      "metadata": {
        "collapsed": true,
        "id": "rODFJaZGXUAL"
      },
      "execution_count": null,
      "outputs": []
    },
    {
      "cell_type": "code",
      "source": [
        "algo.stop()\n",
        "ray.shutdown()"
      ],
      "metadata": {
        "id": "Zg8xYrgu7V9m"
      },
      "execution_count": null,
      "outputs": []
    }
  ]
}